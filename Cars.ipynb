{
  "nbformat": 4,
  "nbformat_minor": 0,
  "metadata": {
    "colab": {
      "name": "Cars.ipynb",
      "provenance": [],
      "collapsed_sections": [],
      "mount_file_id": "1AiNAT3pJVGgWCZOc00ZbapRybeZCptG7",
      "authorship_tag": "ABX9TyPxht++G09FlU00yV9a1N9b",
      "include_colab_link": true
    },
    "kernelspec": {
      "name": "python3",
      "display_name": "Python 3"
    },
    "language_info": {
      "name": "python"
    }
  },
  "cells": [
    {
      "cell_type": "markdown",
      "metadata": {
        "id": "view-in-github",
        "colab_type": "text"
      },
      "source": [
        "<a href=\"https://colab.research.google.com/github/aanyajain1/car_price_prediction/blob/main/Cars.ipynb\" target=\"_parent\"><img src=\"https://colab.research.google.com/assets/colab-badge.svg\" alt=\"Open In Colab\"/></a>"
      ]
    },
    {
      "cell_type": "code",
      "source": [
        "from google.colab import drive\n",
        "drive.mount('/content/drive')\n"
      ],
      "metadata": {
        "colab": {
          "base_uri": "https://localhost:8080/"
        },
        "id": "8WZpSxqA-T4H",
        "outputId": "5234d48e-ec41-4363-bafc-a2310d82ee19"
      },
      "execution_count": null,
      "outputs": [
        {
          "output_type": "stream",
          "name": "stdout",
          "text": [
            "Mounted at /content/drive\n"
          ]
        }
      ]
    },
    {
      "cell_type": "code",
      "source": [
        "import pandas as pd\n",
        "import numpy as np\n",
        "from sklearn.preprocessing import OneHotEncoder,LabelEncoder\n",
        "import matplotlib.pyplot as plt\n",
        "import seaborn as sns"
      ],
      "metadata": {
        "id": "vaa_SKhV9nsg"
      },
      "execution_count": null,
      "outputs": []
    },
    {
      "cell_type": "code",
      "source": [
        "path=\"/content/drive/MyDrive/Colab Notebooks/cars_engage__2022.csv\"\n",
        "df=pd.read_csv(path)\n",
        "\n",
        "#dataset is now stored in a pandas dataframe\n",
        "\n",
        "df.describe"
      ],
      "metadata": {
        "colab": {
          "base_uri": "https://localhost:8080/"
        },
        "id": "_6OcKAa3OiFp",
        "outputId": "8030a265-c4a4-4563-b342-f558b8402dd6"
      },
      "execution_count": null,
      "outputs": [
        {
          "output_type": "execute_result",
          "data": {
            "text/plain": [
              "<bound method NDFrame.describe of       Unnamed: 0        Make      Model        Variant Ex-Showroom_Price  \\\n",
              "0              0        Tata  Nano Genx             Xt      Rs. 2,92,667   \n",
              "1              1        Tata  Nano Genx             Xe      Rs. 2,36,447   \n",
              "2              2        Tata  Nano Genx        Emax Xm      Rs. 2,96,661   \n",
              "3              3        Tata  Nano Genx            Xta      Rs. 3,34,768   \n",
              "4              4        Tata  Nano Genx             Xm      Rs. 2,72,223   \n",
              "...          ...         ...        ...            ...               ...   \n",
              "1271        1271       Honda       City   Vx Mt Diesel     Rs. 13,02,000   \n",
              "1272        1272       Honda       City   Zx Mt Diesel     Rs. 14,21,000   \n",
              "1273        1273       Honda       City  Zx Cvt Petrol     Rs. 14,31,000   \n",
              "1274        1274       Honda       City   V Cvt Petrol     Rs. 12,01,000   \n",
              "1275        1275  Mitsubishi    Montero         3.2 At     Rs. 68,62,560   \n",
              "\n",
              "     Displacement  Cylinders  Valves_Per_Cylinder               Drivetrain  \\\n",
              "0          624 cc        2.0                  2.0   RWD (Rear Wheel Drive)   \n",
              "1          624 cc        2.0                  2.0   RWD (Rear Wheel Drive)   \n",
              "2          624 cc        2.0                  2.0   RWD (Rear Wheel Drive)   \n",
              "3          624 cc        2.0                  2.0   RWD (Rear Wheel Drive)   \n",
              "4          624 cc        2.0                  2.0   RWD (Rear Wheel Drive)   \n",
              "...           ...        ...                  ...                      ...   \n",
              "1271      1498 cc        4.0                  4.0  FWD (Front Wheel Drive)   \n",
              "1272      1498 cc        4.0                  4.0  FWD (Front Wheel Drive)   \n",
              "1273      1497 cc        4.0                  4.0  FWD (Front Wheel Drive)   \n",
              "1274      1497 cc        4.0                  4.0  FWD (Front Wheel Drive)   \n",
              "1275      3200 cc        4.0                  4.0    AWD (All Wheel Drive)   \n",
              "\n",
              "     Cylinder_Configuration  ... Leather_Wrapped_Steering Automatic_Headlamps  \\\n",
              "0                   In-line  ...                      NaN                 NaN   \n",
              "1                   In-line  ...                      NaN                 NaN   \n",
              "2                   In-line  ...                      NaN                 NaN   \n",
              "3                   In-line  ...                      NaN                 NaN   \n",
              "4                   In-line  ...                      NaN                 NaN   \n",
              "...                     ...  ...                      ...                 ...   \n",
              "1271                In-line  ...                      Yes                 NaN   \n",
              "1272                In-line  ...                      Yes                 Yes   \n",
              "1273                In-line  ...                      Yes                 Yes   \n",
              "1274                In-line  ...                      NaN                 NaN   \n",
              "1275                In-line  ...                      Yes                 NaN   \n",
              "\n",
              "     Engine_Type ASR_/_Traction_Control Cruise_Control USB_Ports  \\\n",
              "0            NaN                    NaN            NaN       NaN   \n",
              "1            NaN                    NaN            NaN       NaN   \n",
              "2            NaN                    NaN            NaN       NaN   \n",
              "3            NaN                    NaN            NaN       NaN   \n",
              "4            NaN                    NaN            NaN       NaN   \n",
              "...          ...                    ...            ...       ...   \n",
              "1271         NaN                    NaN            Yes       NaN   \n",
              "1272         NaN                    NaN            Yes       NaN   \n",
              "1273         NaN                    NaN            Yes       NaN   \n",
              "1274         NaN                    NaN            Yes       NaN   \n",
              "1275         NaN                    Yes            Yes       NaN   \n",
              "\n",
              "     Heads-Up_Display Welcome_Lights Battery  Electric_Range  \n",
              "0                 NaN            NaN     NaN             NaN  \n",
              "1                 NaN            NaN     NaN             NaN  \n",
              "2                 NaN            NaN     NaN             NaN  \n",
              "3                 NaN            NaN     NaN             NaN  \n",
              "4                 NaN            NaN     NaN             NaN  \n",
              "...               ...            ...     ...             ...  \n",
              "1271              NaN            NaN     NaN             NaN  \n",
              "1272              NaN            NaN     NaN             NaN  \n",
              "1273              NaN            NaN     NaN             NaN  \n",
              "1274              NaN            NaN     NaN             NaN  \n",
              "1275              NaN            NaN     NaN             NaN  \n",
              "\n",
              "[1276 rows x 141 columns]>"
            ]
          },
          "metadata": {},
          "execution_count": 9
        }
      ]
    },
    {
      "cell_type": "markdown",
      "source": [
        "Colums are Displayed"
      ],
      "metadata": {
        "id": "NzHCRV-aQPhh"
      }
    },
    {
      "cell_type": "code",
      "source": [
        "df.columns"
      ],
      "metadata": {
        "colab": {
          "base_uri": "https://localhost:8080/"
        },
        "id": "1WHeCjX7PwKY",
        "outputId": "ac5d8a4c-0568-4c34-af8d-6fb6e5aafdb8"
      },
      "execution_count": null,
      "outputs": [
        {
          "output_type": "execute_result",
          "data": {
            "text/plain": [
              "Index(['Unnamed: 0', 'Make', 'Model', 'Variant', 'Ex-Showroom_Price',\n",
              "       'Displacement', 'Cylinders', 'Valves_Per_Cylinder', 'Drivetrain',\n",
              "       'Cylinder_Configuration',\n",
              "       ...\n",
              "       'Leather_Wrapped_Steering', 'Automatic_Headlamps', 'Engine_Type',\n",
              "       'ASR_/_Traction_Control', 'Cruise_Control', 'USB_Ports',\n",
              "       'Heads-Up_Display', 'Welcome_Lights', 'Battery', 'Electric_Range'],\n",
              "      dtype='object', length=141)"
            ]
          },
          "metadata": {},
          "execution_count": 10
        }
      ]
    },
    {
      "cell_type": "markdown",
      "source": [
        "Estimate Missing values\n",
        "\n"
      ],
      "metadata": {
        "id": "_xy73XYvQ-_8"
      }
    },
    {
      "cell_type": "code",
      "source": [
        "df.isnull().sum()"
      ],
      "metadata": {
        "colab": {
          "base_uri": "https://localhost:8080/"
        },
        "id": "hyg4BW4jz91o",
        "outputId": "0d8614e2-cdd1-436e-a766-ee13e8316cbc"
      },
      "execution_count": null,
      "outputs": [
        {
          "output_type": "execute_result",
          "data": {
            "text/plain": [
              "Unnamed: 0              0\n",
              "Make                   75\n",
              "Model                   0\n",
              "Variant                 0\n",
              "Ex-Showroom_Price       0\n",
              "                     ... \n",
              "USB_Ports            1247\n",
              "Heads-Up_Display     1225\n",
              "Welcome_Lights       1207\n",
              "Battery              1263\n",
              "Electric_Range       1259\n",
              "Length: 141, dtype: int64"
            ]
          },
          "metadata": {},
          "execution_count": 12
        }
      ]
    },
    {
      "cell_type": "code",
      "source": [
        "df.Boot_Space"
      ],
      "metadata": {
        "colab": {
          "base_uri": "https://localhost:8080/"
        },
        "id": "uH6NiM51zAFR",
        "outputId": "0b219fd1-e53a-47a1-84df-6b9efe8cde64"
      },
      "execution_count": null,
      "outputs": [
        {
          "output_type": "execute_result",
          "data": {
            "text/plain": [
              "0        110 litres\n",
              "1        110 litres\n",
              "2        110 litres\n",
              "3         94 litres\n",
              "4        110 litres\n",
              "           ...     \n",
              "1271     510 litres\n",
              "1272     510 litres\n",
              "1273     510 litres\n",
              "1274     510 litres\n",
              "1275    1050 litres\n",
              "Name: Boot_Space, Length: 1276, dtype: object"
            ]
          },
          "metadata": {},
          "execution_count": 11
        }
      ]
    },
    {
      "cell_type": "markdown",
      "source": [
        "We now remove the unit to convert its data type"
      ],
      "metadata": {
        "id": "iJHKTvRN1PQB"
      }
    },
    {
      "cell_type": "code",
      "source": [
        "df.Boot_Space=df.Boot_Space.str.replace('litres',' ')"
      ],
      "metadata": {
        "id": "bjeadntJ1YCu"
      },
      "execution_count": null,
      "outputs": []
    },
    {
      "cell_type": "code",
      "source": [
        "df.Boot_Space"
      ],
      "metadata": {
        "colab": {
          "base_uri": "https://localhost:8080/"
        },
        "id": "hKsyQRsD2v8N",
        "outputId": "cfeecfec-8fdb-47f7-c7c1-4a61a2722512"
      },
      "execution_count": null,
      "outputs": [
        {
          "output_type": "execute_result",
          "data": {
            "text/plain": [
              "0        110  \n",
              "1        110  \n",
              "2        110  \n",
              "3         94  \n",
              "4        110  \n",
              "         ...  \n",
              "1271     510  \n",
              "1272     510  \n",
              "1273     510  \n",
              "1274     510  \n",
              "1275    1050  \n",
              "Name: Boot_Space, Length: 1276, dtype: object"
            ]
          },
          "metadata": {},
          "execution_count": 14
        }
      ]
    },
    {
      "cell_type": "code",
      "source": [
        "df.Boot_Space=pd.to_numeric(df.Boot_Space,errors='coerce')"
      ],
      "metadata": {
        "id": "nB-i1KKe20og"
      },
      "execution_count": null,
      "outputs": []
    },
    {
      "cell_type": "code",
      "source": [
        "df.Boot_Space"
      ],
      "metadata": {
        "colab": {
          "base_uri": "https://localhost:8080/"
        },
        "id": "3g04tdSY29EG",
        "outputId": "fd07130a-72a7-4bbe-9f16-e8c9c7af4a3a"
      },
      "execution_count": null,
      "outputs": [
        {
          "output_type": "execute_result",
          "data": {
            "text/plain": [
              "0        110.0\n",
              "1        110.0\n",
              "2        110.0\n",
              "3         94.0\n",
              "4        110.0\n",
              "         ...  \n",
              "1271     510.0\n",
              "1272     510.0\n",
              "1273     510.0\n",
              "1274     510.0\n",
              "1275    1050.0\n",
              "Name: Boot_Space, Length: 1276, dtype: float64"
            ]
          },
          "metadata": {},
          "execution_count": 16
        }
      ]
    },
    {
      "cell_type": "code",
      "source": [
        "df.Make"
      ],
      "metadata": {
        "colab": {
          "base_uri": "https://localhost:8080/"
        },
        "id": "7jecZpwx3CSt",
        "outputId": "fb7519f2-b6cc-4574-b058-dd7e6eea2bff"
      },
      "execution_count": null,
      "outputs": [
        {
          "output_type": "execute_result",
          "data": {
            "text/plain": [
              "0             Tata\n",
              "1             Tata\n",
              "2             Tata\n",
              "3             Tata\n",
              "4             Tata\n",
              "           ...    \n",
              "1271         Honda\n",
              "1272         Honda\n",
              "1273         Honda\n",
              "1274         Honda\n",
              "1275    Mitsubishi\n",
              "Name: Make, Length: 1276, dtype: object"
            ]
          },
          "metadata": {},
          "execution_count": 17
        }
      ]
    },
    {
      "cell_type": "code",
      "source": [
        "df.Make.value_counts()"
      ],
      "metadata": {
        "colab": {
          "base_uri": "https://localhost:8080/"
        },
        "id": "DHRps__Y3IQ5",
        "outputId": "718f6981-9df0-415e-c4d1-04013e551814"
      },
      "execution_count": null,
      "outputs": [
        {
          "output_type": "execute_result",
          "data": {
            "text/plain": [
              "Maruti Suzuki       149\n",
              "Hyundai             130\n",
              "Mahindra            119\n",
              "Tata                100\n",
              "Toyota               82\n",
              "Honda                64\n",
              "Skoda                43\n",
              "Ford                 43\n",
              "Bmw                  37\n",
              "Renault              36\n",
              "Volkswagen           34\n",
              "Audi                 31\n",
              "Nissan               29\n",
              "Jeep                 28\n",
              "Land Rover Rover     27\n",
              "Fiat                 23\n",
              "Jaguar               22\n",
              "Kia                  21\n",
              "Volvo                18\n",
              "Datsun               15\n",
              "Porsche              14\n",
              "Maruti Suzuki R      14\n",
              "Lamborghini          13\n",
              "Mg                   13\n",
              "Icml                 11\n",
              "Land Rover           10\n",
              "Lexus                10\n",
              "Mini                 10\n",
              "Maserati              9\n",
              "Ferrari               8\n",
              "Mitsubishi            7\n",
              "Bentley               6\n",
              "Premier               6\n",
              "Force                 6\n",
              "Isuzu                 5\n",
              "Aston Martin          3\n",
              "Bajaj                 2\n",
              "Bugatti               2\n",
              "Dc                    1\n",
              "Name: Make, dtype: int64"
            ]
          },
          "metadata": {},
          "execution_count": 18
        }
      ]
    },
    {
      "cell_type": "code",
      "source": [
        "df.Make.fillna('Mercedes',inplace=True)"
      ],
      "metadata": {
        "id": "pwocPSVv3K85"
      },
      "execution_count": null,
      "outputs": []
    },
    {
      "cell_type": "code",
      "source": [
        "df.isnull().sum()"
      ],
      "metadata": {
        "colab": {
          "base_uri": "https://localhost:8080/"
        },
        "id": "ZW5QvRIv3RhE",
        "outputId": "e1cb09db-e114-4d4d-e8e8-0158994daf36"
      },
      "execution_count": null,
      "outputs": [
        {
          "output_type": "execute_result",
          "data": {
            "text/plain": [
              "Unnamed: 0              0\n",
              "Make                    0\n",
              "Model                   0\n",
              "Variant                 0\n",
              "Ex-Showroom_Price       0\n",
              "                     ... \n",
              "USB_Ports            1247\n",
              "Heads-Up_Display     1225\n",
              "Welcome_Lights       1207\n",
              "Battery              1263\n",
              "Electric_Range       1259\n",
              "Length: 141, dtype: int64"
            ]
          },
          "metadata": {},
          "execution_count": 20
        }
      ]
    },
    {
      "cell_type": "code",
      "source": [
        "for i in range(883,892):\n",
        "    df['Make'][i]='Datsun'"
      ],
      "metadata": {
        "colab": {
          "base_uri": "https://localhost:8080/"
        },
        "id": "Qg8ixbqB3UhG",
        "outputId": "60771b63-c7a4-4f12-bc50-f9b2a7373a96"
      },
      "execution_count": null,
      "outputs": [
        {
          "output_type": "stream",
          "name": "stderr",
          "text": [
            "/usr/local/lib/python3.7/dist-packages/ipykernel_launcher.py:2: SettingWithCopyWarning: \n",
            "A value is trying to be set on a copy of a slice from a DataFrame\n",
            "\n",
            "See the caveats in the documentation: https://pandas.pydata.org/pandas-docs/stable/user_guide/indexing.html#returning-a-view-versus-a-copy\n",
            "  \n"
          ]
        }
      ]
    },
    {
      "cell_type": "code",
      "source": [
        "for i in range(349,355):\n",
        "    df['Make'][i]='Rolls-Royce'"
      ],
      "metadata": {
        "colab": {
          "base_uri": "https://localhost:8080/"
        },
        "id": "Ul2_1Ll54C2A",
        "outputId": "9738a846-97ce-49e6-f895-399f610ac664"
      },
      "execution_count": null,
      "outputs": [
        {
          "output_type": "stream",
          "name": "stderr",
          "text": [
            "/usr/local/lib/python3.7/dist-packages/ipykernel_launcher.py:2: SettingWithCopyWarning: \n",
            "A value is trying to be set on a copy of a slice from a DataFrame\n",
            "\n",
            "See the caveats in the documentation: https://pandas.pydata.org/pandas-docs/stable/user_guide/indexing.html#returning-a-view-versus-a-copy\n",
            "  \n"
          ]
        }
      ]
    },
    {
      "cell_type": "code",
      "source": [
        "df.Model"
      ],
      "metadata": {
        "colab": {
          "base_uri": "https://localhost:8080/"
        },
        "id": "kJScPnZ74E9O",
        "outputId": "2fdd2e3d-2834-42d5-b3c3-aa38ff4e1823"
      },
      "execution_count": null,
      "outputs": [
        {
          "output_type": "execute_result",
          "data": {
            "text/plain": [
              "0       Nano Genx\n",
              "1       Nano Genx\n",
              "2       Nano Genx\n",
              "3       Nano Genx\n",
              "4       Nano Genx\n",
              "          ...    \n",
              "1271         City\n",
              "1272         City\n",
              "1273         City\n",
              "1274         City\n",
              "1275      Montero\n",
              "Name: Model, Length: 1276, dtype: object"
            ]
          },
          "metadata": {},
          "execution_count": 27
        }
      ]
    },
    {
      "cell_type": "code",
      "source": [
        "df.Cylinders.isnull().sum()"
      ],
      "metadata": {
        "colab": {
          "base_uri": "https://localhost:8080/"
        },
        "id": "RSug2IC44JVU",
        "outputId": "1f8aa1eb-b29b-47dc-c4f6-1b793ccce5f9"
      },
      "execution_count": null,
      "outputs": [
        {
          "output_type": "execute_result",
          "data": {
            "text/plain": [
              "66"
            ]
          },
          "metadata": {},
          "execution_count": 28
        }
      ]
    },
    {
      "cell_type": "code",
      "source": [
        "df.Cylinders.mode()"
      ],
      "metadata": {
        "colab": {
          "base_uri": "https://localhost:8080/"
        },
        "id": "GmGaJAo-4LQr",
        "outputId": "32bffb44-4c5b-443a-a1c3-d0319031a5f2"
      },
      "execution_count": null,
      "outputs": [
        {
          "output_type": "execute_result",
          "data": {
            "text/plain": [
              "0    4.0\n",
              "dtype: float64"
            ]
          },
          "metadata": {},
          "execution_count": 29
        }
      ]
    },
    {
      "cell_type": "markdown",
      "source": [
        "We now replace missing valuesin the column cylinder with its mode"
      ],
      "metadata": {
        "id": "NMKwAVcC4Nhk"
      }
    },
    {
      "cell_type": "code",
      "source": [
        "df.Cylinders.fillna(4.0,inplace = True)"
      ],
      "metadata": {
        "id": "FnJnEPkh4Uyb"
      },
      "execution_count": null,
      "outputs": []
    },
    {
      "cell_type": "code",
      "source": [
        "df.Cylinders.isnull().sum()"
      ],
      "metadata": {
        "colab": {
          "base_uri": "https://localhost:8080/"
        },
        "id": "TJFDUdLG4Y5e",
        "outputId": "28f21f7b-456c-42b6-d25a-a678a8254d54"
      },
      "execution_count": null,
      "outputs": [
        {
          "output_type": "execute_result",
          "data": {
            "text/plain": [
              "0"
            ]
          },
          "metadata": {},
          "execution_count": 31
        }
      ]
    },
    {
      "cell_type": "code",
      "source": [
        "df.Valves_Per_Cylinder.isnull().sum()"
      ],
      "metadata": {
        "colab": {
          "base_uri": "https://localhost:8080/"
        },
        "id": "JLJezinN4bMf",
        "outputId": "70132b14-903f-4e20-d79a-c5f2eb028884"
      },
      "execution_count": null,
      "outputs": [
        {
          "output_type": "execute_result",
          "data": {
            "text/plain": [
              "102"
            ]
          },
          "metadata": {},
          "execution_count": 32
        }
      ]
    },
    {
      "cell_type": "code",
      "source": [
        "df.Valves_Per_Cylinder.median()"
      ],
      "metadata": {
        "colab": {
          "base_uri": "https://localhost:8080/"
        },
        "id": "mfsfb0GB4dUU",
        "outputId": "851613a5-825d-40e9-aef1-11ce0f111672"
      },
      "execution_count": null,
      "outputs": [
        {
          "output_type": "execute_result",
          "data": {
            "text/plain": [
              "4.0"
            ]
          },
          "metadata": {},
          "execution_count": 33
        }
      ]
    },
    {
      "cell_type": "code",
      "source": [
        "df.Displacement=df.Displacement.str.replace('cc',' ')\n",
        "df.Displacement=pd.to_numeric(df.Displacement)\n",
        "df.Displacement=df.Displacement.fillna(1197)\n",
        "df.Displacement"
      ],
      "metadata": {
        "colab": {
          "base_uri": "https://localhost:8080/"
        },
        "id": "6BrPM2vE4f9y",
        "outputId": "e3977b57-eabe-4b0e-dd0e-0add2434c2b1"
      },
      "execution_count": null,
      "outputs": [
        {
          "output_type": "execute_result",
          "data": {
            "text/plain": [
              "0        624.0\n",
              "1        624.0\n",
              "2        624.0\n",
              "3        624.0\n",
              "4        624.0\n",
              "         ...  \n",
              "1271    1498.0\n",
              "1272    1498.0\n",
              "1273    1497.0\n",
              "1274    1497.0\n",
              "1275    3200.0\n",
              "Name: Displacement, Length: 1276, dtype: float64"
            ]
          },
          "metadata": {},
          "execution_count": 34
        }
      ]
    },
    {
      "cell_type": "code",
      "source": [
        "df.City_Mileage"
      ],
      "metadata": {
        "colab": {
          "base_uri": "https://localhost:8080/"
        },
        "id": "LhXXbrn24izm",
        "outputId": "b34c89eb-d31c-41cd-9869-47e226b03a62"
      },
      "execution_count": null,
      "outputs": [
        {
          "output_type": "execute_result",
          "data": {
            "text/plain": [
              "0       ?23.6 km/litre\n",
              "1       ?23.6 km/litre\n",
              "2                  NaN\n",
              "3       ?23.6 km/litre\n",
              "4       ?23.6 km/litre\n",
              "             ...      \n",
              "1271     22.6 km/litre\n",
              "1272     22.6 km/litre\n",
              "1273       18 km/litre\n",
              "1274     14.3 km/litre\n",
              "1275     8.25 km/litre\n",
              "Name: City_Mileage, Length: 1276, dtype: object"
            ]
          },
          "metadata": {},
          "execution_count": 35
        }
      ]
    },
    {
      "cell_type": "code",
      "source": [
        "df.City_Mileage.isnull().sum()"
      ],
      "metadata": {
        "colab": {
          "base_uri": "https://localhost:8080/"
        },
        "id": "sSvkEKTV4lRM",
        "outputId": "b353aab9-0a28-4896-b509-838db0baa132"
      },
      "execution_count": null,
      "outputs": [
        {
          "output_type": "execute_result",
          "data": {
            "text/plain": [
              "555"
            ]
          },
          "metadata": {},
          "execution_count": 36
        }
      ]
    },
    {
      "cell_type": "code",
      "source": [
        "df.City_Mileage=df['City_Mileage'].str.replace('km/litre',\" \") \n",
        "df.City_Mileage=df['City_Mileage'].str.replace(\"?\",\" \")"
      ],
      "metadata": {
        "colab": {
          "base_uri": "https://localhost:8080/"
        },
        "id": "n1mQmzfB4oEh",
        "outputId": "3ff2d080-a150-4162-e2b9-034ade4dda67"
      },
      "execution_count": null,
      "outputs": [
        {
          "output_type": "stream",
          "name": "stderr",
          "text": [
            "/usr/local/lib/python3.7/dist-packages/ipykernel_launcher.py:2: FutureWarning: The default value of regex will change from True to False in a future version. In addition, single character regular expressions will *not* be treated as literal strings when regex=True.\n",
            "  \n"
          ]
        }
      ]
    },
    {
      "cell_type": "code",
      "source": [
        "df['City_Mileage']=pd.to_numeric(df['City_Mileage'],errors='coerce')"
      ],
      "metadata": {
        "id": "HcWCk1oV4r_5"
      },
      "execution_count": null,
      "outputs": []
    },
    {
      "cell_type": "code",
      "source": [
        "df.City_Mileage.head(20)"
      ],
      "metadata": {
        "colab": {
          "base_uri": "https://localhost:8080/"
        },
        "id": "iy8u9yf84uHL",
        "outputId": "ecebfdb1-0b15-4119-be67-5c11be4e1dc2"
      },
      "execution_count": null,
      "outputs": [
        {
          "output_type": "execute_result",
          "data": {
            "text/plain": [
              "0     23.60\n",
              "1     23.60\n",
              "2     28.86\n",
              "3     23.60\n",
              "4     23.60\n",
              "5     23.60\n",
              "6     21.38\n",
              "7     21.38\n",
              "8     21.38\n",
              "9     21.38\n",
              "10    28.86\n",
              "11    28.86\n",
              "12    25.17\n",
              "13    25.17\n",
              "14    25.17\n",
              "15    25.17\n",
              "16    25.17\n",
              "17    25.17\n",
              "18    25.17\n",
              "19    25.17\n",
              "Name: City_Mileage, dtype: float64"
            ]
          },
          "metadata": {},
          "execution_count": 108
        }
      ]
    },
    {
      "cell_type": "code",
      "source": [
        "df.City_Mileage.isnull().sum()"
      ],
      "metadata": {
        "colab": {
          "base_uri": "https://localhost:8080/"
        },
        "id": "NObFKwXi4zSa",
        "outputId": "53ce63bc-cbd4-4c9b-ff31-63664ea39034"
      },
      "execution_count": null,
      "outputs": [
        {
          "output_type": "execute_result",
          "data": {
            "text/plain": [
              "589"
            ]
          },
          "metadata": {},
          "execution_count": 40
        }
      ]
    },
    {
      "cell_type": "code",
      "source": [
        "df.City_Mileage.mean()"
      ],
      "metadata": {
        "colab": {
          "base_uri": "https://localhost:8080/"
        },
        "id": "E3FAGN8l43G2",
        "outputId": "606660bd-7b05-4e85-dce9-17c7054e10c3"
      },
      "execution_count": null,
      "outputs": [
        {
          "output_type": "execute_result",
          "data": {
            "text/plain": [
              "53.60717612809316"
            ]
          },
          "metadata": {},
          "execution_count": 41
        }
      ]
    },
    {
      "cell_type": "code",
      "source": [
        "df.City_Mileage.fillna(28.86,inplace= True)"
      ],
      "metadata": {
        "id": "80pYC-4m449o"
      },
      "execution_count": null,
      "outputs": []
    },
    {
      "cell_type": "code",
      "source": [
        "df.City_Mileage.head(200)"
      ],
      "metadata": {
        "colab": {
          "base_uri": "https://localhost:8080/"
        },
        "id": "pszX6z7o462M",
        "outputId": "1402d6f0-9bb3-47b0-c76c-194765790def"
      },
      "execution_count": null,
      "outputs": [
        {
          "output_type": "execute_result",
          "data": {
            "text/plain": [
              "0      23.60\n",
              "1      23.60\n",
              "2      28.86\n",
              "3      23.60\n",
              "4      23.60\n",
              "       ...  \n",
              "195    28.86\n",
              "196    28.86\n",
              "197    28.86\n",
              "198    20.32\n",
              "199    20.30\n",
              "Name: City_Mileage, Length: 200, dtype: float64"
            ]
          },
          "metadata": {},
          "execution_count": 107
        }
      ]
    },
    {
      "cell_type": "code",
      "source": [
        "df.City_Mileage.mean()"
      ],
      "metadata": {
        "colab": {
          "base_uri": "https://localhost:8080/"
        },
        "id": "USY13dxA5BF5",
        "outputId": "0c61babf-2915-472e-ca46-27468d89836c"
      },
      "execution_count": null,
      "outputs": [
        {
          "output_type": "execute_result",
          "data": {
            "text/plain": [
              "42.183910658307205"
            ]
          },
          "metadata": {},
          "execution_count": 45
        }
      ]
    },
    {
      "cell_type": "code",
      "source": [
        "df.City_Mileage[169]"
      ],
      "metadata": {
        "colab": {
          "base_uri": "https://localhost:8080/"
        },
        "id": "bmUN1Wcl5EAb",
        "outputId": "dfdaa10c-9e74-4e1a-cd17-44702964839a"
      },
      "execution_count": null,
      "outputs": [
        {
          "output_type": "execute_result",
          "data": {
            "text/plain": [
              "28.86"
            ]
          },
          "metadata": {},
          "execution_count": 46
        }
      ]
    },
    {
      "cell_type": "code",
      "source": [
        "df.City_Mileage.isnull().sum()"
      ],
      "metadata": {
        "colab": {
          "base_uri": "https://localhost:8080/"
        },
        "id": "eB7B9YDp5Gwy",
        "outputId": "f1e30a0c-6987-4f76-b2f3-bf4106a8eb80"
      },
      "execution_count": null,
      "outputs": [
        {
          "output_type": "execute_result",
          "data": {
            "text/plain": [
              "0"
            ]
          },
          "metadata": {},
          "execution_count": 47
        }
      ]
    },
    {
      "cell_type": "code",
      "source": [
        "df.Highway_Mileage=df.Highway_Mileage.str.replace('km/litre',' ').str.replace('8.3-8.4','8.3 ')\n",
        "df.Highway_Mileage=pd.to_numeric(df.Highway_Mileage)\n",
        "\n",
        "df.Highway_Mileage"
      ],
      "metadata": {
        "colab": {
          "base_uri": "https://localhost:8080/"
        },
        "id": "g-dnzR3m5JwJ",
        "outputId": "292cc7ba-66c5-40d5-d28a-c8a921ac4d06"
      },
      "execution_count": null,
      "outputs": [
        {
          "output_type": "stream",
          "name": "stderr",
          "text": [
            "/usr/local/lib/python3.7/dist-packages/ipykernel_launcher.py:1: FutureWarning: The default value of regex will change from True to False in a future version.\n",
            "  \"\"\"Entry point for launching an IPython kernel.\n"
          ]
        },
        {
          "output_type": "execute_result",
          "data": {
            "text/plain": [
              "0         NaN\n",
              "1         NaN\n",
              "2         NaN\n",
              "3         NaN\n",
              "4         NaN\n",
              "        ...  \n",
              "1271    25.10\n",
              "1272    25.10\n",
              "1273    18.00\n",
              "1274    16.40\n",
              "1275    11.56\n",
              "Name: Highway_Mileage, Length: 1276, dtype: float64"
            ]
          },
          "metadata": {},
          "execution_count": 48
        }
      ]
    },
    {
      "cell_type": "code",
      "source": [
        "df.Highway_Mileage.mode()\n",
        "df.Highway_Mileage=df.Highway_Mileage.fillna(22.0)"
      ],
      "metadata": {
        "id": "0ycf4BFN5OWw"
      },
      "execution_count": null,
      "outputs": []
    },
    {
      "cell_type": "code",
      "source": [
        "df.Highway_Mileage.isnull().sum()"
      ],
      "metadata": {
        "colab": {
          "base_uri": "https://localhost:8080/"
        },
        "id": "Hd0YUsIr5QgV",
        "outputId": "b0f355de-3819-48e8-cb8f-19c1a466b9da"
      },
      "execution_count": null,
      "outputs": [
        {
          "output_type": "execute_result",
          "data": {
            "text/plain": [
              "0"
            ]
          },
          "metadata": {},
          "execution_count": 50
        }
      ]
    },
    {
      "cell_type": "code",
      "source": [
        "df.isnull().sum()[:50]"
      ],
      "metadata": {
        "colab": {
          "base_uri": "https://localhost:8080/"
        },
        "id": "Q2RdS2Ys59Mu",
        "outputId": "ce024ff5-1622-4f89-a122-cbac6e24d5a1"
      },
      "execution_count": null,
      "outputs": [
        {
          "output_type": "execute_result",
          "data": {
            "text/plain": [
              "Unnamed: 0                           0\n",
              "Make                                 0\n",
              "Model                                0\n",
              "Variant                              0\n",
              "Ex-Showroom_Price                    0\n",
              "Displacement                         0\n",
              "Cylinders                            0\n",
              "Valves_Per_Cylinder                102\n",
              "Drivetrain                           7\n",
              "Cylinder_Configuration              13\n",
              "Emission_Norm                       11\n",
              "Engine_Location                     43\n",
              "Fuel_System                          8\n",
              "Fuel_Tank_Capacity                  69\n",
              "Fuel_Type                            0\n",
              "Height                               1\n",
              "Length                               0\n",
              "Width                               12\n",
              "Body_Type                            6\n",
              "Doors                                4\n",
              "City_Mileage                         0\n",
              "Highway_Mileage                      0\n",
              "ARAI_Certified_Mileage             114\n",
              "ARAI_Certified_Mileage_for_CNG    1249\n",
              "Kerb_Weight                        365\n",
              "Gears                              105\n",
              "Ground_Clearance                   289\n",
              "Front_Brakes                        25\n",
              "Rear_Brakes                         25\n",
              "Front_Suspension                    59\n",
              "Rear_Suspension                     46\n",
              "Front_Track                        667\n",
              "Rear_Track                         676\n",
              "Front_Tyre_&_Rim                    49\n",
              "Rear_Tyre_&_Rim                     48\n",
              "Power_Steering                      57\n",
              "Power_Windows                       97\n",
              "Power_Seats                        893\n",
              "Keyless_Entry                      274\n",
              "Power                                0\n",
              "Torque                               2\n",
              "Odometer                            43\n",
              "Speedometer                         45\n",
              "Tachometer                          13\n",
              "Tripmeter                           60\n",
              "Seating_Capacity                     6\n",
              "Seats_Material                      12\n",
              "Type                                 1\n",
              "Wheelbase                           20\n",
              "Wheels_Size                         56\n",
              "dtype: int64"
            ]
          },
          "metadata": {},
          "execution_count": 51
        }
      ]
    },
    {
      "cell_type": "code",
      "source": [
        "\n",
        "\n",
        "df.Torque.isnull().sum()\n",
        "\n"
      ],
      "metadata": {
        "colab": {
          "base_uri": "https://localhost:8080/"
        },
        "id": "pHmAKe0p5_xq",
        "outputId": "b0b849b4-53a1-4b6b-edf0-512ff40c1c65"
      },
      "execution_count": null,
      "outputs": [
        {
          "output_type": "execute_result",
          "data": {
            "text/plain": [
              "2"
            ]
          },
          "metadata": {},
          "execution_count": 52
        }
      ]
    },
    {
      "cell_type": "code",
      "source": [
        "df.Power.isnull().sum()"
      ],
      "metadata": {
        "colab": {
          "base_uri": "https://localhost:8080/"
        },
        "id": "1HFUaJxh6B8d",
        "outputId": "66441d0f-1b8b-46ac-994e-7b866da3ee4a"
      },
      "execution_count": null,
      "outputs": [
        {
          "output_type": "execute_result",
          "data": {
            "text/plain": [
              "0"
            ]
          },
          "metadata": {},
          "execution_count": 53
        }
      ]
    },
    {
      "cell_type": "code",
      "source": [
        "df['Ex-Showroom_Price']"
      ],
      "metadata": {
        "colab": {
          "base_uri": "https://localhost:8080/"
        },
        "id": "aPwU7Cmg6EY0",
        "outputId": "1e2aac5b-5d6b-446a-be55-9deab2efec40"
      },
      "execution_count": null,
      "outputs": [
        {
          "output_type": "execute_result",
          "data": {
            "text/plain": [
              "0        Rs. 2,92,667\n",
              "1        Rs. 2,36,447\n",
              "2        Rs. 2,96,661\n",
              "3        Rs. 3,34,768\n",
              "4        Rs. 2,72,223\n",
              "            ...      \n",
              "1271    Rs. 13,02,000\n",
              "1272    Rs. 14,21,000\n",
              "1273    Rs. 14,31,000\n",
              "1274    Rs. 12,01,000\n",
              "1275    Rs. 68,62,560\n",
              "Name: Ex-Showroom_Price, Length: 1276, dtype: object"
            ]
          },
          "metadata": {},
          "execution_count": 54
        }
      ]
    },
    {
      "cell_type": "code",
      "source": [
        "df['Ex-Showroom_Price'].head(60)"
      ],
      "metadata": {
        "colab": {
          "base_uri": "https://localhost:8080/"
        },
        "id": "NFQOs2PA6J-R",
        "outputId": "19c3101d-bf60-4072-efea-b701fdb99e9c"
      },
      "execution_count": null,
      "outputs": [
        {
          "output_type": "execute_result",
          "data": {
            "text/plain": [
              "0     Rs. 2,92,667\n",
              "1     Rs. 2,36,447\n",
              "2     Rs. 2,96,661\n",
              "3     Rs. 3,34,768\n",
              "4     Rs. 2,72,223\n",
              "5     Rs. 3,14,815\n",
              "6     Rs. 2,79,650\n",
              "7     Rs. 3,51,832\n",
              "8     Rs. 3,33,419\n",
              "9     Rs. 3,62,000\n",
              "10    Rs. 3,90,000\n",
              "11    Rs. 4,37,065\n",
              "12    Rs. 3,53,290\n",
              "13    Rs. 2,83,290\n",
              "14    Rs. 3,83,290\n",
              "15    Rs. 4,13,290\n",
              "16    Rs. 4,33,290\n",
              "17    Rs. 4,54,490\n",
              "18    Rs. 4,63,290\n",
              "19    Rs. 4,84,490\n",
              "20    Rs. 4,40,990\n",
              "21    Rs. 4,70,990\n",
              "22    Rs. 4,62,190\n",
              "23    Rs. 4,92,190\n",
              "24    Rs. 3,52,136\n",
              "25    Rs. 3,80,573\n",
              "26    Rs. 3,92,967\n",
              "27    Rs. 4,66,057\n",
              "28    Rs. 4,25,255\n",
              "29    Rs. 3,77,588\n",
              "30    Rs. 3,94,036\n",
              "31    Rs. 3,60,843\n",
              "32    Rs. 4,07,238\n",
              "33    Rs. 4,39,777\n",
              "34    Rs. 4,38,559\n",
              "35    Rs. 3,74,990\n",
              "36    Rs. 4,68,229\n",
              "37    Rs. 5,02,492\n",
              "38    Rs. 4,99,990\n",
              "39    Rs. 4,69,990\n",
              "40    Rs. 5,28,464\n",
              "41    Rs. 5,53,015\n",
              "42    Rs. 5,94,464\n",
              "43    Rs. 6,18,015\n",
              "44    Rs. 4,22,444\n",
              "45    Rs. 4,80,670\n",
              "46    Rs. 4,29,990\n",
              "47    Rs. 5,03,990\n",
              "48    Rs. 5,47,990\n",
              "49    Rs. 5,30,990\n",
              "50    Rs. 5,12,990\n",
              "51    Rs. 5,78,990\n",
              "52    Rs. 5,70,990\n",
              "53    Rs. 5,56,490\n",
              "54    Rs. 4,60,000\n",
              "55    Rs. 5,20,000\n",
              "56    Rs. 5,70,000\n",
              "57    Rs. 5,99,000\n",
              "58    Rs. 6,10,000\n",
              "59    Rs. 6,20,000\n",
              "Name: Ex-Showroom_Price, dtype: object"
            ]
          },
          "metadata": {},
          "execution_count": 55
        }
      ]
    },
    {
      "cell_type": "code",
      "source": [
        "df['Ex-Showroom_Price']=df['Ex-Showroom_Price'].str.replace('Rs. ',\" \").str.replace(',','')"
      ],
      "metadata": {
        "colab": {
          "base_uri": "https://localhost:8080/"
        },
        "id": "ztiAjo1o6MY9",
        "outputId": "b6342d18-d527-448c-d088-01accf5cdee1"
      },
      "execution_count": null,
      "outputs": [
        {
          "output_type": "stream",
          "name": "stderr",
          "text": [
            "/usr/local/lib/python3.7/dist-packages/ipykernel_launcher.py:1: FutureWarning: The default value of regex will change from True to False in a future version.\n",
            "  \"\"\"Entry point for launching an IPython kernel.\n"
          ]
        }
      ]
    },
    {
      "cell_type": "code",
      "source": [
        "\n",
        "\n",
        "df['Ex-Showroom_Price']\n",
        "\n"
      ],
      "metadata": {
        "colab": {
          "base_uri": "https://localhost:8080/"
        },
        "id": "DLh5xyU86PHy",
        "outputId": "31fe9f64-f79d-4db1-cbb3-6189061238ea"
      },
      "execution_count": null,
      "outputs": [
        {
          "output_type": "execute_result",
          "data": {
            "text/plain": [
              "0         292667\n",
              "1         236447\n",
              "2         296661\n",
              "3         334768\n",
              "4         272223\n",
              "          ...   \n",
              "1271     1302000\n",
              "1272     1421000\n",
              "1273     1431000\n",
              "1274     1201000\n",
              "1275     6862560\n",
              "Name: Ex-Showroom_Price, Length: 1276, dtype: object"
            ]
          },
          "metadata": {},
          "execution_count": 57
        }
      ]
    },
    {
      "cell_type": "code",
      "source": [
        "df['Ex-Showroom_Price'] = pd.to_numeric(df['Ex-Showroom_Price'],errors='coerce')"
      ],
      "metadata": {
        "id": "E6Ik9xcL6R08"
      },
      "execution_count": null,
      "outputs": []
    },
    {
      "cell_type": "code",
      "source": [
        "df['Ex-Showroom_Price']"
      ],
      "metadata": {
        "colab": {
          "base_uri": "https://localhost:8080/"
        },
        "id": "l8stZqi_6WbL",
        "outputId": "2b5c1a5d-32a0-4baa-80ff-da644cbc74ce"
      },
      "execution_count": null,
      "outputs": [
        {
          "output_type": "execute_result",
          "data": {
            "text/plain": [
              "0        292667\n",
              "1        236447\n",
              "2        296661\n",
              "3        334768\n",
              "4        272223\n",
              "         ...   \n",
              "1271    1302000\n",
              "1272    1421000\n",
              "1273    1431000\n",
              "1274    1201000\n",
              "1275    6862560\n",
              "Name: Ex-Showroom_Price, Length: 1276, dtype: int64"
            ]
          },
          "metadata": {},
          "execution_count": 60
        }
      ]
    },
    {
      "cell_type": "code",
      "source": [
        "df['Ex-Showroom_Price'].mean()"
      ],
      "metadata": {
        "colab": {
          "base_uri": "https://localhost:8080/"
        },
        "id": "x5ugRYGW6ZC7",
        "outputId": "061090f1-a076-4d6a-8a22-42bd30f185b4"
      },
      "execution_count": null,
      "outputs": [
        {
          "output_type": "execute_result",
          "data": {
            "text/plain": [
              "4596537.887147335"
            ]
          },
          "metadata": {},
          "execution_count": 61
        }
      ]
    },
    {
      "cell_type": "code",
      "source": [
        "df.isnull().sum()[:60]"
      ],
      "metadata": {
        "colab": {
          "base_uri": "https://localhost:8080/"
        },
        "id": "dagLyxMp6b8W",
        "outputId": "c16f3cbc-3851-425f-c67d-595643dc1736"
      },
      "execution_count": null,
      "outputs": [
        {
          "output_type": "execute_result",
          "data": {
            "text/plain": [
              "Unnamed: 0                           0\n",
              "Make                                 0\n",
              "Model                                0\n",
              "Variant                              0\n",
              "Ex-Showroom_Price                    0\n",
              "Displacement                         0\n",
              "Cylinders                            0\n",
              "Valves_Per_Cylinder                102\n",
              "Drivetrain                           7\n",
              "Cylinder_Configuration              13\n",
              "Emission_Norm                       11\n",
              "Engine_Location                     43\n",
              "Fuel_System                          8\n",
              "Fuel_Tank_Capacity                  69\n",
              "Fuel_Type                            0\n",
              "Height                               1\n",
              "Length                               0\n",
              "Width                               12\n",
              "Body_Type                            6\n",
              "Doors                                4\n",
              "City_Mileage                         0\n",
              "Highway_Mileage                      0\n",
              "ARAI_Certified_Mileage             114\n",
              "ARAI_Certified_Mileage_for_CNG    1249\n",
              "Kerb_Weight                        365\n",
              "Gears                              105\n",
              "Ground_Clearance                   289\n",
              "Front_Brakes                        25\n",
              "Rear_Brakes                         25\n",
              "Front_Suspension                    59\n",
              "Rear_Suspension                     46\n",
              "Front_Track                        667\n",
              "Rear_Track                         676\n",
              "Front_Tyre_&_Rim                    49\n",
              "Rear_Tyre_&_Rim                     48\n",
              "Power_Steering                      57\n",
              "Power_Windows                       97\n",
              "Power_Seats                        893\n",
              "Keyless_Entry                      274\n",
              "Power                                0\n",
              "Torque                               2\n",
              "Odometer                            43\n",
              "Speedometer                         45\n",
              "Tachometer                          13\n",
              "Tripmeter                           60\n",
              "Seating_Capacity                     6\n",
              "Seats_Material                      12\n",
              "Type                                 1\n",
              "Wheelbase                           20\n",
              "Wheels_Size                         56\n",
              "Start_/_Stop_Button                678\n",
              "12v_Power_Outlet                   154\n",
              "Audiosystem                         44\n",
              "Aux-in_Compatibility               284\n",
              "Average_Fuel_Consumption           345\n",
              "Basic_Warranty                     440\n",
              "Bluetooth                          292\n",
              "Boot-lid_Opener                     14\n",
              "Boot_Space                         258\n",
              "CD_/_MP3_/_DVD_Player              309\n",
              "dtype: int64"
            ]
          },
          "metadata": {},
          "execution_count": 62
        }
      ]
    },
    {
      "cell_type": "code",
      "source": [
        "df.Make[:60]"
      ],
      "metadata": {
        "colab": {
          "base_uri": "https://localhost:8080/"
        },
        "id": "-yg9m0u76i3W",
        "outputId": "f1a24b4d-ddff-4990-bd54-a6a9cbece0ae"
      },
      "execution_count": null,
      "outputs": [
        {
          "output_type": "execute_result",
          "data": {
            "text/plain": [
              "0              Tata\n",
              "1              Tata\n",
              "2              Tata\n",
              "3              Tata\n",
              "4              Tata\n",
              "5              Tata\n",
              "6            Datsun\n",
              "7            Datsun\n",
              "8            Datsun\n",
              "9            Datsun\n",
              "10           Datsun\n",
              "11           Datsun\n",
              "12          Renault\n",
              "13          Renault\n",
              "14          Renault\n",
              "15          Renault\n",
              "16          Renault\n",
              "17          Renault\n",
              "18          Renault\n",
              "19          Renault\n",
              "20          Renault\n",
              "21          Renault\n",
              "22          Renault\n",
              "23          Renault\n",
              "24    Maruti Suzuki\n",
              "25    Maruti Suzuki\n",
              "26    Maruti Suzuki\n",
              "27    Maruti Suzuki\n",
              "28    Maruti Suzuki\n",
              "29    Maruti Suzuki\n",
              "30    Maruti Suzuki\n",
              "31    Maruti Suzuki\n",
              "32    Maruti Suzuki\n",
              "33    Maruti Suzuki\n",
              "34    Maruti Suzuki\n",
              "35           Datsun\n",
              "36           Datsun\n",
              "37           Datsun\n",
              "38           Datsun\n",
              "39           Datsun\n",
              "40           Datsun\n",
              "41           Datsun\n",
              "42           Datsun\n",
              "43           Datsun\n",
              "44    Maruti Suzuki\n",
              "45    Maruti Suzuki\n",
              "46          Hyundai\n",
              "47          Hyundai\n",
              "48          Hyundai\n",
              "49          Hyundai\n",
              "50          Hyundai\n",
              "51          Hyundai\n",
              "52          Hyundai\n",
              "53          Hyundai\n",
              "54             Tata\n",
              "55             Tata\n",
              "56             Tata\n",
              "57             Tata\n",
              "58             Tata\n",
              "59             Tata\n",
              "Name: Make, dtype: object"
            ]
          },
          "metadata": {},
          "execution_count": 63
        }
      ]
    },
    {
      "cell_type": "code",
      "source": [
        "df.Make.isnull().sum()"
      ],
      "metadata": {
        "colab": {
          "base_uri": "https://localhost:8080/"
        },
        "id": "u1GUYs0p6lbD",
        "outputId": "091208ff-25e3-49d8-d4eb-52c83c94da96"
      },
      "execution_count": null,
      "outputs": [
        {
          "output_type": "execute_result",
          "data": {
            "text/plain": [
              "0"
            ]
          },
          "metadata": {},
          "execution_count": 64
        }
      ]
    },
    {
      "cell_type": "code",
      "source": [
        "df.Fuel_Tank_Capacity"
      ],
      "metadata": {
        "colab": {
          "base_uri": "https://localhost:8080/"
        },
        "id": "ItZux4k76nMN",
        "outputId": "b4c6f1da-2d09-4eb9-d82f-bf5a122b1390"
      },
      "execution_count": null,
      "outputs": [
        {
          "output_type": "execute_result",
          "data": {
            "text/plain": [
              "0       24 litres\n",
              "1       24 litres\n",
              "2       15 litres\n",
              "3       24 litres\n",
              "4       24 litres\n",
              "          ...    \n",
              "1271    40 litres\n",
              "1272    40 litres\n",
              "1273    40 litres\n",
              "1274    40 litres\n",
              "1275    88 litres\n",
              "Name: Fuel_Tank_Capacity, Length: 1276, dtype: object"
            ]
          },
          "metadata": {},
          "execution_count": 65
        }
      ]
    },
    {
      "cell_type": "code",
      "source": [
        "#tfm = OneHotEncoder(categories='auto',drop=None,sparse=True,handle_unknown='ignore')"
      ],
      "metadata": {
        "id": "C_aGroxE6qTa"
      },
      "execution_count": null,
      "outputs": []
    },
    {
      "cell_type": "code",
      "source": [
        "col=df[['Make','Model','Body_Type','Variant','Ex-Showroom_Price','Fuel_Tank_Capacity','Cylinders','Power','Torque','Boot_Space','City_Mileage','Highway_Mileage']]"
      ],
      "metadata": {
        "id": "DdvsUggo6yqw"
      },
      "execution_count": null,
      "outputs": []
    },
    {
      "cell_type": "code",
      "source": [
        "#tfm.fit_transform(col)"
      ],
      "metadata": {
        "id": "E0Iz_cVy61Ve"
      },
      "execution_count": null,
      "outputs": []
    },
    {
      "cell_type": "code",
      "source": [
        "#tfm.categories_"
      ],
      "metadata": {
        "id": "zHuk2SjR629g"
      },
      "execution_count": null,
      "outputs": []
    },
    {
      "cell_type": "code",
      "source": [
        "labelencoder = LabelEncoder()"
      ],
      "metadata": {
        "id": "eYtS5iu064kZ"
      },
      "execution_count": null,
      "outputs": []
    },
    {
      "cell_type": "markdown",
      "source": [
        "Label Encoder to work with columns that have categorical data"
      ],
      "metadata": {
        "id": "lrdMDogd68ck"
      }
    },
    {
      "cell_type": "code",
      "source": [
        "col['MakeLabEnc']=labelencoder.fit_transform(df['Make'])\n",
        "col['ModelLabEnc']=labelencoder.fit_transform(df['Model'])\n",
        "col['Body_typeLabEnc']=labelencoder.fit_transform(df['Body_Type'])\n",
        "col['PowerLabEnc']=labelencoder.fit_transform(df['Power'])\n",
        "col['TorqueLabEnc']=labelencoder.fit_transform(df['Torque'])"
      ],
      "metadata": {
        "colab": {
          "base_uri": "https://localhost:8080/"
        },
        "id": "ryly1DcC6-vU",
        "outputId": "900359c5-283e-4799-d440-dad78aba51b5"
      },
      "execution_count": null,
      "outputs": [
        {
          "output_type": "stream",
          "name": "stderr",
          "text": [
            "/usr/local/lib/python3.7/dist-packages/ipykernel_launcher.py:1: SettingWithCopyWarning: \n",
            "A value is trying to be set on a copy of a slice from a DataFrame.\n",
            "Try using .loc[row_indexer,col_indexer] = value instead\n",
            "\n",
            "See the caveats in the documentation: https://pandas.pydata.org/pandas-docs/stable/user_guide/indexing.html#returning-a-view-versus-a-copy\n",
            "  \"\"\"Entry point for launching an IPython kernel.\n",
            "/usr/local/lib/python3.7/dist-packages/ipykernel_launcher.py:2: SettingWithCopyWarning: \n",
            "A value is trying to be set on a copy of a slice from a DataFrame.\n",
            "Try using .loc[row_indexer,col_indexer] = value instead\n",
            "\n",
            "See the caveats in the documentation: https://pandas.pydata.org/pandas-docs/stable/user_guide/indexing.html#returning-a-view-versus-a-copy\n",
            "  \n",
            "/usr/local/lib/python3.7/dist-packages/ipykernel_launcher.py:3: SettingWithCopyWarning: \n",
            "A value is trying to be set on a copy of a slice from a DataFrame.\n",
            "Try using .loc[row_indexer,col_indexer] = value instead\n",
            "\n",
            "See the caveats in the documentation: https://pandas.pydata.org/pandas-docs/stable/user_guide/indexing.html#returning-a-view-versus-a-copy\n",
            "  This is separate from the ipykernel package so we can avoid doing imports until\n",
            "/usr/local/lib/python3.7/dist-packages/ipykernel_launcher.py:4: SettingWithCopyWarning: \n",
            "A value is trying to be set on a copy of a slice from a DataFrame.\n",
            "Try using .loc[row_indexer,col_indexer] = value instead\n",
            "\n",
            "See the caveats in the documentation: https://pandas.pydata.org/pandas-docs/stable/user_guide/indexing.html#returning-a-view-versus-a-copy\n",
            "  after removing the cwd from sys.path.\n",
            "/usr/local/lib/python3.7/dist-packages/ipykernel_launcher.py:5: SettingWithCopyWarning: \n",
            "A value is trying to be set on a copy of a slice from a DataFrame.\n",
            "Try using .loc[row_indexer,col_indexer] = value instead\n",
            "\n",
            "See the caveats in the documentation: https://pandas.pydata.org/pandas-docs/stable/user_guide/indexing.html#returning-a-view-versus-a-copy\n",
            "  \"\"\"\n"
          ]
        }
      ]
    },
    {
      "cell_type": "code",
      "source": [
        "col.TorqueLabEnc.isnull().sum()"
      ],
      "metadata": {
        "colab": {
          "base_uri": "https://localhost:8080/"
        },
        "id": "bGWFHQcj7Cz8",
        "outputId": "38b4d5d3-6900-4f9b-a25f-6e215ff2b146"
      },
      "execution_count": null,
      "outputs": [
        {
          "output_type": "execute_result",
          "data": {
            "text/plain": [
              "0"
            ]
          },
          "metadata": {},
          "execution_count": 72
        }
      ]
    },
    {
      "cell_type": "code",
      "source": [
        "col.Body_typeLabEnc.isnull().sum()"
      ],
      "metadata": {
        "colab": {
          "base_uri": "https://localhost:8080/"
        },
        "id": "mi81CS3F7EwM",
        "outputId": "a99ae1ad-0fa8-4869-9f50-5521087a8a86"
      },
      "execution_count": null,
      "outputs": [
        {
          "output_type": "execute_result",
          "data": {
            "text/plain": [
              "0"
            ]
          },
          "metadata": {},
          "execution_count": 73
        }
      ]
    },
    {
      "cell_type": "code",
      "source": [
        "col.head(20)"
      ],
      "metadata": {
        "colab": {
          "base_uri": "https://localhost:8080/",
          "height": 1000
        },
        "id": "8piF1r2P7Glg",
        "outputId": "f3d4d886-8abb-472d-e42a-34f51c832b23"
      },
      "execution_count": null,
      "outputs": [
        {
          "output_type": "execute_result",
          "data": {
            "text/plain": [
              "       Make      Model  Body_Type          Variant  Ex-Showroom_Price  \\\n",
              "0      Tata  Nano Genx  Hatchback               Xt             292667   \n",
              "1      Tata  Nano Genx  Hatchback               Xe             236447   \n",
              "2      Tata  Nano Genx  Hatchback          Emax Xm             296661   \n",
              "3      Tata  Nano Genx  Hatchback              Xta             334768   \n",
              "4      Tata  Nano Genx  Hatchback               Xm             272223   \n",
              "5      Tata  Nano Genx  Hatchback              Xma             314815   \n",
              "6    Datsun    Redi-Go  Hatchback                D             279650   \n",
              "7    Datsun    Redi-Go  Hatchback                T             351832   \n",
              "8    Datsun    Redi-Go  Hatchback                A             333419   \n",
              "9    Datsun    Redi-Go  Hatchback                S             362000   \n",
              "10   Datsun    Redi-Go  Hatchback            1.0 S             390000   \n",
              "11   Datsun    Redi-Go  Hatchback        1.0 S Amt             437065   \n",
              "12  Renault       Kwid  Hatchback          Rxe 0.8             353290   \n",
              "13  Renault       Kwid  Hatchback          Std 0.8             283290   \n",
              "14  Renault       Kwid  Hatchback          Rxl 0.8             383290   \n",
              "15  Renault       Kwid  Hatchback          Rxt 0.8             413290   \n",
              "16  Renault       Kwid  Hatchback          Rxt 1.0             433290   \n",
              "17  Renault       Kwid  Hatchback   Climber 1.0 Mt             454490   \n",
              "18  Renault       Kwid  Hatchback      Rxt Amt 1.0             463290   \n",
              "19  Renault       Kwid  Hatchback  Climber Amt 1.0             484490   \n",
              "\n",
              "   Fuel_Tank_Capacity  Cylinders         Power        Torque  Boot_Space  \\\n",
              "0           24 litres        2.0  38PS@5500rpm  51Nm@4000rpm       110.0   \n",
              "1           24 litres        2.0  38PS@5500rpm  51Nm@4000rpm       110.0   \n",
              "2           15 litres        2.0  38PS@5500rpm  51Nm@4000rpm       110.0   \n",
              "3           24 litres        2.0  38PS@5500rpm  51Nm@4000rpm        94.0   \n",
              "4           24 litres        2.0  38PS@5500rpm  51Nm@4000rpm       110.0   \n",
              "5           24 litres        2.0  38PS@5500rpm  51Nm@4000rpm        94.0   \n",
              "6           28 litres        3.0  54PS@5678rpm  72Nm@4386rpm       222.0   \n",
              "7           28 litres        3.0  54PS@5678rpm  72Nm@4386rpm       222.0   \n",
              "8           28 litres        3.0  54PS@5678rpm  72Nm@4386rpm       222.0   \n",
              "9           28 litres        3.0  54PS@5678rpm  72Nm@4386rpm       222.0   \n",
              "10          28 litres        3.0  68PS@5500rpm  91Nm@4250RPM       222.0   \n",
              "11          28 litres        3.0  68PS@5500rpm  91Nm@4250RPM       222.0   \n",
              "12          28 litres        3.0  54PS@5678rpm  72Nm@4386rpm       300.0   \n",
              "13          28 litres        3.0  54PS@5678rpm  72Nm@4386rpm       300.0   \n",
              "14          28 litres        3.0  54PS@5678rpm  72Nm@4386rpm       300.0   \n",
              "15          28 litres        3.0  54PS@5678rpm  72Nm@4386rpm       300.0   \n",
              "16          28 litres        3.0  68PS@5500rpm  91Nm@4250RPM       300.0   \n",
              "17          28 litres        3.0  68PS@5500rpm  91Nm@4250RPM       300.0   \n",
              "18          28 litres        3.0  68PS@5500rpm  91Nm@4250RPM       300.0   \n",
              "19          28 litres        3.0  68PS@5500rpm  91Nm@4250RPM       300.0   \n",
              "\n",
              "    City_Mileage  Highway_Mileage  MakeLabEnc  ModelLabEnc  Body_typeLabEnc  \\\n",
              "0          23.60             22.0          37          158                5   \n",
              "1          23.60             22.0          37          158                5   \n",
              "2          28.86             22.0          37          158                5   \n",
              "3          23.60             22.0          37          158                5   \n",
              "4          23.60             22.0          37          158                5   \n",
              "5          23.60             22.0          37          158                5   \n",
              "6          21.38             24.0           6          189                5   \n",
              "7          21.38             24.0           6          189                5   \n",
              "8          21.38             24.0           6          189                5   \n",
              "9          21.38             24.0           6          189                5   \n",
              "10         28.86             22.0           6          189                5   \n",
              "11         28.86             22.0           6          189                5   \n",
              "12         25.17             22.0          34          115                5   \n",
              "13         25.17             22.0          34          115                5   \n",
              "14         25.17             22.0          34          115                5   \n",
              "15         25.17             22.0          34          115                5   \n",
              "16         25.17             22.0          34          115                5   \n",
              "17         25.17             22.0          34          115                5   \n",
              "18         25.17             22.0          34          115                5   \n",
              "19         25.17             22.0          34          115                5   \n",
              "\n",
              "    PowerLabEnc  TorqueLabEnc  \n",
              "0           221           248  \n",
              "1           221           248  \n",
              "2           221           248  \n",
              "3           221           248  \n",
              "4           221           248  \n",
              "5           221           248  \n",
              "6           252           309  \n",
              "7           252           309  \n",
              "8           252           309  \n",
              "9           252           309  \n",
              "10          305           336  \n",
              "11          305           336  \n",
              "12          252           309  \n",
              "13          252           309  \n",
              "14          252           309  \n",
              "15          252           309  \n",
              "16          305           336  \n",
              "17          305           336  \n",
              "18          305           336  \n",
              "19          305           336  "
            ],
            "text/html": [
              "\n",
              "  <div id=\"df-c80603b0-f088-4dd3-a6fd-6630366fc963\">\n",
              "    <div class=\"colab-df-container\">\n",
              "      <div>\n",
              "<style scoped>\n",
              "    .dataframe tbody tr th:only-of-type {\n",
              "        vertical-align: middle;\n",
              "    }\n",
              "\n",
              "    .dataframe tbody tr th {\n",
              "        vertical-align: top;\n",
              "    }\n",
              "\n",
              "    .dataframe thead th {\n",
              "        text-align: right;\n",
              "    }\n",
              "</style>\n",
              "<table border=\"1\" class=\"dataframe\">\n",
              "  <thead>\n",
              "    <tr style=\"text-align: right;\">\n",
              "      <th></th>\n",
              "      <th>Make</th>\n",
              "      <th>Model</th>\n",
              "      <th>Body_Type</th>\n",
              "      <th>Variant</th>\n",
              "      <th>Ex-Showroom_Price</th>\n",
              "      <th>Fuel_Tank_Capacity</th>\n",
              "      <th>Cylinders</th>\n",
              "      <th>Power</th>\n",
              "      <th>Torque</th>\n",
              "      <th>Boot_Space</th>\n",
              "      <th>City_Mileage</th>\n",
              "      <th>Highway_Mileage</th>\n",
              "      <th>MakeLabEnc</th>\n",
              "      <th>ModelLabEnc</th>\n",
              "      <th>Body_typeLabEnc</th>\n",
              "      <th>PowerLabEnc</th>\n",
              "      <th>TorqueLabEnc</th>\n",
              "    </tr>\n",
              "  </thead>\n",
              "  <tbody>\n",
              "    <tr>\n",
              "      <th>0</th>\n",
              "      <td>Tata</td>\n",
              "      <td>Nano Genx</td>\n",
              "      <td>Hatchback</td>\n",
              "      <td>Xt</td>\n",
              "      <td>292667</td>\n",
              "      <td>24 litres</td>\n",
              "      <td>2.0</td>\n",
              "      <td>38PS@5500rpm</td>\n",
              "      <td>51Nm@4000rpm</td>\n",
              "      <td>110.0</td>\n",
              "      <td>23.60</td>\n",
              "      <td>22.0</td>\n",
              "      <td>37</td>\n",
              "      <td>158</td>\n",
              "      <td>5</td>\n",
              "      <td>221</td>\n",
              "      <td>248</td>\n",
              "    </tr>\n",
              "    <tr>\n",
              "      <th>1</th>\n",
              "      <td>Tata</td>\n",
              "      <td>Nano Genx</td>\n",
              "      <td>Hatchback</td>\n",
              "      <td>Xe</td>\n",
              "      <td>236447</td>\n",
              "      <td>24 litres</td>\n",
              "      <td>2.0</td>\n",
              "      <td>38PS@5500rpm</td>\n",
              "      <td>51Nm@4000rpm</td>\n",
              "      <td>110.0</td>\n",
              "      <td>23.60</td>\n",
              "      <td>22.0</td>\n",
              "      <td>37</td>\n",
              "      <td>158</td>\n",
              "      <td>5</td>\n",
              "      <td>221</td>\n",
              "      <td>248</td>\n",
              "    </tr>\n",
              "    <tr>\n",
              "      <th>2</th>\n",
              "      <td>Tata</td>\n",
              "      <td>Nano Genx</td>\n",
              "      <td>Hatchback</td>\n",
              "      <td>Emax Xm</td>\n",
              "      <td>296661</td>\n",
              "      <td>15 litres</td>\n",
              "      <td>2.0</td>\n",
              "      <td>38PS@5500rpm</td>\n",
              "      <td>51Nm@4000rpm</td>\n",
              "      <td>110.0</td>\n",
              "      <td>28.86</td>\n",
              "      <td>22.0</td>\n",
              "      <td>37</td>\n",
              "      <td>158</td>\n",
              "      <td>5</td>\n",
              "      <td>221</td>\n",
              "      <td>248</td>\n",
              "    </tr>\n",
              "    <tr>\n",
              "      <th>3</th>\n",
              "      <td>Tata</td>\n",
              "      <td>Nano Genx</td>\n",
              "      <td>Hatchback</td>\n",
              "      <td>Xta</td>\n",
              "      <td>334768</td>\n",
              "      <td>24 litres</td>\n",
              "      <td>2.0</td>\n",
              "      <td>38PS@5500rpm</td>\n",
              "      <td>51Nm@4000rpm</td>\n",
              "      <td>94.0</td>\n",
              "      <td>23.60</td>\n",
              "      <td>22.0</td>\n",
              "      <td>37</td>\n",
              "      <td>158</td>\n",
              "      <td>5</td>\n",
              "      <td>221</td>\n",
              "      <td>248</td>\n",
              "    </tr>\n",
              "    <tr>\n",
              "      <th>4</th>\n",
              "      <td>Tata</td>\n",
              "      <td>Nano Genx</td>\n",
              "      <td>Hatchback</td>\n",
              "      <td>Xm</td>\n",
              "      <td>272223</td>\n",
              "      <td>24 litres</td>\n",
              "      <td>2.0</td>\n",
              "      <td>38PS@5500rpm</td>\n",
              "      <td>51Nm@4000rpm</td>\n",
              "      <td>110.0</td>\n",
              "      <td>23.60</td>\n",
              "      <td>22.0</td>\n",
              "      <td>37</td>\n",
              "      <td>158</td>\n",
              "      <td>5</td>\n",
              "      <td>221</td>\n",
              "      <td>248</td>\n",
              "    </tr>\n",
              "    <tr>\n",
              "      <th>5</th>\n",
              "      <td>Tata</td>\n",
              "      <td>Nano Genx</td>\n",
              "      <td>Hatchback</td>\n",
              "      <td>Xma</td>\n",
              "      <td>314815</td>\n",
              "      <td>24 litres</td>\n",
              "      <td>2.0</td>\n",
              "      <td>38PS@5500rpm</td>\n",
              "      <td>51Nm@4000rpm</td>\n",
              "      <td>94.0</td>\n",
              "      <td>23.60</td>\n",
              "      <td>22.0</td>\n",
              "      <td>37</td>\n",
              "      <td>158</td>\n",
              "      <td>5</td>\n",
              "      <td>221</td>\n",
              "      <td>248</td>\n",
              "    </tr>\n",
              "    <tr>\n",
              "      <th>6</th>\n",
              "      <td>Datsun</td>\n",
              "      <td>Redi-Go</td>\n",
              "      <td>Hatchback</td>\n",
              "      <td>D</td>\n",
              "      <td>279650</td>\n",
              "      <td>28 litres</td>\n",
              "      <td>3.0</td>\n",
              "      <td>54PS@5678rpm</td>\n",
              "      <td>72Nm@4386rpm</td>\n",
              "      <td>222.0</td>\n",
              "      <td>21.38</td>\n",
              "      <td>24.0</td>\n",
              "      <td>6</td>\n",
              "      <td>189</td>\n",
              "      <td>5</td>\n",
              "      <td>252</td>\n",
              "      <td>309</td>\n",
              "    </tr>\n",
              "    <tr>\n",
              "      <th>7</th>\n",
              "      <td>Datsun</td>\n",
              "      <td>Redi-Go</td>\n",
              "      <td>Hatchback</td>\n",
              "      <td>T</td>\n",
              "      <td>351832</td>\n",
              "      <td>28 litres</td>\n",
              "      <td>3.0</td>\n",
              "      <td>54PS@5678rpm</td>\n",
              "      <td>72Nm@4386rpm</td>\n",
              "      <td>222.0</td>\n",
              "      <td>21.38</td>\n",
              "      <td>24.0</td>\n",
              "      <td>6</td>\n",
              "      <td>189</td>\n",
              "      <td>5</td>\n",
              "      <td>252</td>\n",
              "      <td>309</td>\n",
              "    </tr>\n",
              "    <tr>\n",
              "      <th>8</th>\n",
              "      <td>Datsun</td>\n",
              "      <td>Redi-Go</td>\n",
              "      <td>Hatchback</td>\n",
              "      <td>A</td>\n",
              "      <td>333419</td>\n",
              "      <td>28 litres</td>\n",
              "      <td>3.0</td>\n",
              "      <td>54PS@5678rpm</td>\n",
              "      <td>72Nm@4386rpm</td>\n",
              "      <td>222.0</td>\n",
              "      <td>21.38</td>\n",
              "      <td>24.0</td>\n",
              "      <td>6</td>\n",
              "      <td>189</td>\n",
              "      <td>5</td>\n",
              "      <td>252</td>\n",
              "      <td>309</td>\n",
              "    </tr>\n",
              "    <tr>\n",
              "      <th>9</th>\n",
              "      <td>Datsun</td>\n",
              "      <td>Redi-Go</td>\n",
              "      <td>Hatchback</td>\n",
              "      <td>S</td>\n",
              "      <td>362000</td>\n",
              "      <td>28 litres</td>\n",
              "      <td>3.0</td>\n",
              "      <td>54PS@5678rpm</td>\n",
              "      <td>72Nm@4386rpm</td>\n",
              "      <td>222.0</td>\n",
              "      <td>21.38</td>\n",
              "      <td>24.0</td>\n",
              "      <td>6</td>\n",
              "      <td>189</td>\n",
              "      <td>5</td>\n",
              "      <td>252</td>\n",
              "      <td>309</td>\n",
              "    </tr>\n",
              "    <tr>\n",
              "      <th>10</th>\n",
              "      <td>Datsun</td>\n",
              "      <td>Redi-Go</td>\n",
              "      <td>Hatchback</td>\n",
              "      <td>1.0 S</td>\n",
              "      <td>390000</td>\n",
              "      <td>28 litres</td>\n",
              "      <td>3.0</td>\n",
              "      <td>68PS@5500rpm</td>\n",
              "      <td>91Nm@4250RPM</td>\n",
              "      <td>222.0</td>\n",
              "      <td>28.86</td>\n",
              "      <td>22.0</td>\n",
              "      <td>6</td>\n",
              "      <td>189</td>\n",
              "      <td>5</td>\n",
              "      <td>305</td>\n",
              "      <td>336</td>\n",
              "    </tr>\n",
              "    <tr>\n",
              "      <th>11</th>\n",
              "      <td>Datsun</td>\n",
              "      <td>Redi-Go</td>\n",
              "      <td>Hatchback</td>\n",
              "      <td>1.0 S Amt</td>\n",
              "      <td>437065</td>\n",
              "      <td>28 litres</td>\n",
              "      <td>3.0</td>\n",
              "      <td>68PS@5500rpm</td>\n",
              "      <td>91Nm@4250RPM</td>\n",
              "      <td>222.0</td>\n",
              "      <td>28.86</td>\n",
              "      <td>22.0</td>\n",
              "      <td>6</td>\n",
              "      <td>189</td>\n",
              "      <td>5</td>\n",
              "      <td>305</td>\n",
              "      <td>336</td>\n",
              "    </tr>\n",
              "    <tr>\n",
              "      <th>12</th>\n",
              "      <td>Renault</td>\n",
              "      <td>Kwid</td>\n",
              "      <td>Hatchback</td>\n",
              "      <td>Rxe 0.8</td>\n",
              "      <td>353290</td>\n",
              "      <td>28 litres</td>\n",
              "      <td>3.0</td>\n",
              "      <td>54PS@5678rpm</td>\n",
              "      <td>72Nm@4386rpm</td>\n",
              "      <td>300.0</td>\n",
              "      <td>25.17</td>\n",
              "      <td>22.0</td>\n",
              "      <td>34</td>\n",
              "      <td>115</td>\n",
              "      <td>5</td>\n",
              "      <td>252</td>\n",
              "      <td>309</td>\n",
              "    </tr>\n",
              "    <tr>\n",
              "      <th>13</th>\n",
              "      <td>Renault</td>\n",
              "      <td>Kwid</td>\n",
              "      <td>Hatchback</td>\n",
              "      <td>Std 0.8</td>\n",
              "      <td>283290</td>\n",
              "      <td>28 litres</td>\n",
              "      <td>3.0</td>\n",
              "      <td>54PS@5678rpm</td>\n",
              "      <td>72Nm@4386rpm</td>\n",
              "      <td>300.0</td>\n",
              "      <td>25.17</td>\n",
              "      <td>22.0</td>\n",
              "      <td>34</td>\n",
              "      <td>115</td>\n",
              "      <td>5</td>\n",
              "      <td>252</td>\n",
              "      <td>309</td>\n",
              "    </tr>\n",
              "    <tr>\n",
              "      <th>14</th>\n",
              "      <td>Renault</td>\n",
              "      <td>Kwid</td>\n",
              "      <td>Hatchback</td>\n",
              "      <td>Rxl 0.8</td>\n",
              "      <td>383290</td>\n",
              "      <td>28 litres</td>\n",
              "      <td>3.0</td>\n",
              "      <td>54PS@5678rpm</td>\n",
              "      <td>72Nm@4386rpm</td>\n",
              "      <td>300.0</td>\n",
              "      <td>25.17</td>\n",
              "      <td>22.0</td>\n",
              "      <td>34</td>\n",
              "      <td>115</td>\n",
              "      <td>5</td>\n",
              "      <td>252</td>\n",
              "      <td>309</td>\n",
              "    </tr>\n",
              "    <tr>\n",
              "      <th>15</th>\n",
              "      <td>Renault</td>\n",
              "      <td>Kwid</td>\n",
              "      <td>Hatchback</td>\n",
              "      <td>Rxt 0.8</td>\n",
              "      <td>413290</td>\n",
              "      <td>28 litres</td>\n",
              "      <td>3.0</td>\n",
              "      <td>54PS@5678rpm</td>\n",
              "      <td>72Nm@4386rpm</td>\n",
              "      <td>300.0</td>\n",
              "      <td>25.17</td>\n",
              "      <td>22.0</td>\n",
              "      <td>34</td>\n",
              "      <td>115</td>\n",
              "      <td>5</td>\n",
              "      <td>252</td>\n",
              "      <td>309</td>\n",
              "    </tr>\n",
              "    <tr>\n",
              "      <th>16</th>\n",
              "      <td>Renault</td>\n",
              "      <td>Kwid</td>\n",
              "      <td>Hatchback</td>\n",
              "      <td>Rxt 1.0</td>\n",
              "      <td>433290</td>\n",
              "      <td>28 litres</td>\n",
              "      <td>3.0</td>\n",
              "      <td>68PS@5500rpm</td>\n",
              "      <td>91Nm@4250RPM</td>\n",
              "      <td>300.0</td>\n",
              "      <td>25.17</td>\n",
              "      <td>22.0</td>\n",
              "      <td>34</td>\n",
              "      <td>115</td>\n",
              "      <td>5</td>\n",
              "      <td>305</td>\n",
              "      <td>336</td>\n",
              "    </tr>\n",
              "    <tr>\n",
              "      <th>17</th>\n",
              "      <td>Renault</td>\n",
              "      <td>Kwid</td>\n",
              "      <td>Hatchback</td>\n",
              "      <td>Climber 1.0 Mt</td>\n",
              "      <td>454490</td>\n",
              "      <td>28 litres</td>\n",
              "      <td>3.0</td>\n",
              "      <td>68PS@5500rpm</td>\n",
              "      <td>91Nm@4250RPM</td>\n",
              "      <td>300.0</td>\n",
              "      <td>25.17</td>\n",
              "      <td>22.0</td>\n",
              "      <td>34</td>\n",
              "      <td>115</td>\n",
              "      <td>5</td>\n",
              "      <td>305</td>\n",
              "      <td>336</td>\n",
              "    </tr>\n",
              "    <tr>\n",
              "      <th>18</th>\n",
              "      <td>Renault</td>\n",
              "      <td>Kwid</td>\n",
              "      <td>Hatchback</td>\n",
              "      <td>Rxt Amt 1.0</td>\n",
              "      <td>463290</td>\n",
              "      <td>28 litres</td>\n",
              "      <td>3.0</td>\n",
              "      <td>68PS@5500rpm</td>\n",
              "      <td>91Nm@4250RPM</td>\n",
              "      <td>300.0</td>\n",
              "      <td>25.17</td>\n",
              "      <td>22.0</td>\n",
              "      <td>34</td>\n",
              "      <td>115</td>\n",
              "      <td>5</td>\n",
              "      <td>305</td>\n",
              "      <td>336</td>\n",
              "    </tr>\n",
              "    <tr>\n",
              "      <th>19</th>\n",
              "      <td>Renault</td>\n",
              "      <td>Kwid</td>\n",
              "      <td>Hatchback</td>\n",
              "      <td>Climber Amt 1.0</td>\n",
              "      <td>484490</td>\n",
              "      <td>28 litres</td>\n",
              "      <td>3.0</td>\n",
              "      <td>68PS@5500rpm</td>\n",
              "      <td>91Nm@4250RPM</td>\n",
              "      <td>300.0</td>\n",
              "      <td>25.17</td>\n",
              "      <td>22.0</td>\n",
              "      <td>34</td>\n",
              "      <td>115</td>\n",
              "      <td>5</td>\n",
              "      <td>305</td>\n",
              "      <td>336</td>\n",
              "    </tr>\n",
              "  </tbody>\n",
              "</table>\n",
              "</div>\n",
              "      <button class=\"colab-df-convert\" onclick=\"convertToInteractive('df-c80603b0-f088-4dd3-a6fd-6630366fc963')\"\n",
              "              title=\"Convert this dataframe to an interactive table.\"\n",
              "              style=\"display:none;\">\n",
              "        \n",
              "  <svg xmlns=\"http://www.w3.org/2000/svg\" height=\"24px\"viewBox=\"0 0 24 24\"\n",
              "       width=\"24px\">\n",
              "    <path d=\"M0 0h24v24H0V0z\" fill=\"none\"/>\n",
              "    <path d=\"M18.56 5.44l.94 2.06.94-2.06 2.06-.94-2.06-.94-.94-2.06-.94 2.06-2.06.94zm-11 1L8.5 8.5l.94-2.06 2.06-.94-2.06-.94L8.5 2.5l-.94 2.06-2.06.94zm10 10l.94 2.06.94-2.06 2.06-.94-2.06-.94-.94-2.06-.94 2.06-2.06.94z\"/><path d=\"M17.41 7.96l-1.37-1.37c-.4-.4-.92-.59-1.43-.59-.52 0-1.04.2-1.43.59L10.3 9.45l-7.72 7.72c-.78.78-.78 2.05 0 2.83L4 21.41c.39.39.9.59 1.41.59.51 0 1.02-.2 1.41-.59l7.78-7.78 2.81-2.81c.8-.78.8-2.07 0-2.86zM5.41 20L4 18.59l7.72-7.72 1.47 1.35L5.41 20z\"/>\n",
              "  </svg>\n",
              "      </button>\n",
              "      \n",
              "  <style>\n",
              "    .colab-df-container {\n",
              "      display:flex;\n",
              "      flex-wrap:wrap;\n",
              "      gap: 12px;\n",
              "    }\n",
              "\n",
              "    .colab-df-convert {\n",
              "      background-color: #E8F0FE;\n",
              "      border: none;\n",
              "      border-radius: 50%;\n",
              "      cursor: pointer;\n",
              "      display: none;\n",
              "      fill: #1967D2;\n",
              "      height: 32px;\n",
              "      padding: 0 0 0 0;\n",
              "      width: 32px;\n",
              "    }\n",
              "\n",
              "    .colab-df-convert:hover {\n",
              "      background-color: #E2EBFA;\n",
              "      box-shadow: 0px 1px 2px rgba(60, 64, 67, 0.3), 0px 1px 3px 1px rgba(60, 64, 67, 0.15);\n",
              "      fill: #174EA6;\n",
              "    }\n",
              "\n",
              "    [theme=dark] .colab-df-convert {\n",
              "      background-color: #3B4455;\n",
              "      fill: #D2E3FC;\n",
              "    }\n",
              "\n",
              "    [theme=dark] .colab-df-convert:hover {\n",
              "      background-color: #434B5C;\n",
              "      box-shadow: 0px 1px 3px 1px rgba(0, 0, 0, 0.15);\n",
              "      filter: drop-shadow(0px 1px 2px rgba(0, 0, 0, 0.3));\n",
              "      fill: #FFFFFF;\n",
              "    }\n",
              "  </style>\n",
              "\n",
              "      <script>\n",
              "        const buttonEl =\n",
              "          document.querySelector('#df-c80603b0-f088-4dd3-a6fd-6630366fc963 button.colab-df-convert');\n",
              "        buttonEl.style.display =\n",
              "          google.colab.kernel.accessAllowed ? 'block' : 'none';\n",
              "\n",
              "        async function convertToInteractive(key) {\n",
              "          const element = document.querySelector('#df-c80603b0-f088-4dd3-a6fd-6630366fc963');\n",
              "          const dataTable =\n",
              "            await google.colab.kernel.invokeFunction('convertToInteractive',\n",
              "                                                     [key], {});\n",
              "          if (!dataTable) return;\n",
              "\n",
              "          const docLinkHtml = 'Like what you see? Visit the ' +\n",
              "            '<a target=\"_blank\" href=https://colab.research.google.com/notebooks/data_table.ipynb>data table notebook</a>'\n",
              "            + ' to learn more about interactive tables.';\n",
              "          element.innerHTML = '';\n",
              "          dataTable['output_type'] = 'display_data';\n",
              "          await google.colab.output.renderOutput(dataTable, element);\n",
              "          const docLink = document.createElement('div');\n",
              "          docLink.innerHTML = docLinkHtml;\n",
              "          element.appendChild(docLink);\n",
              "        }\n",
              "      </script>\n",
              "    </div>\n",
              "  </div>\n",
              "  "
            ]
          },
          "metadata": {},
          "execution_count": 74
        }
      ]
    },
    {
      "cell_type": "code",
      "source": [
        "labelencoder.classes_"
      ],
      "metadata": {
        "colab": {
          "base_uri": "https://localhost:8080/"
        },
        "id": "begoRL9U7LNk",
        "outputId": "bdd7a5ae-055c-491c-8aae-bc023b928da3"
      },
      "execution_count": null,
      "outputs": [
        {
          "output_type": "execute_result",
          "data": {
            "text/plain": [
              "array(['10.1kgm@4500RPM', '1000Nm@2300-4300rpm', '101Nm@3000rpm',\n",
              "       '1020Nm@1750rpm', '103.9Nm@3500-4250rpm', '103Nm@4500RPM',\n",
              "       '104Nm@3100rpm', '104Nm@4000rpm', '104Nm@4400rpm', '105Nm@2500RPM',\n",
              "       '110 Nm@4800rpm', '110Nm@4800rpm', '112.7Nm@4000rpm',\n",
              "       '1130Nm@4200rpm', '113Nm@3300rpm', '113Nm@4200 rpm',\n",
              "       '113Nm@4200RPM', '113Nm@4400 rpm', '114NM@3300rpm',\n",
              "       '114NM@3500rpm', '114Nm@4000rpm', '114Nm@6000rpm',\n",
              "       '115 Nm@4000rpm', '115NM@3500-3600RPM', '115Nm@4000rpm',\n",
              "       '115Nm@4500RPM', '120Nm@4250rpm', '130Nm@4400rpm', '132Nm@3000rpm',\n",
              "       '133Nm@4000rpm', '134Nm@4000rpm', '138Nm@4400rpm',\n",
              "       '140Nm@1500-4000rpm', '140Nm@1750-3000rpm', '140Nm@1800-3000rpm',\n",
              "       '140Nm@4200rpm', '142Nm@3600rpm', '142Nm@4000rpm',\n",
              "       '144Nm@4500 rpm', '145Nm@3750rpm', '145Nm@4600rpm',\n",
              "       '1479bhp@6700rpm', '150Nm@1700-4500RPM', '150Nm@4500rpm',\n",
              "       '151Nm@4850rpm', '152Nm@2250RPM', '152Nm@2500RPM',\n",
              "       '153Nm@3750-3800rpm', '153Nm@3800rpm', '155Nm@4850rpm',\n",
              "       '16.1Nm@4000rpm', '16.3Nm@1500-2750RPM', '1600Nm@2000-6000rpm',\n",
              "       '160Nm@1750rpm', '160Nm@2000rpm', '170Nm@1500-2750rpm',\n",
              "       '170Nm@1800-2400rpm', '1712Nm@1500-4000rpm', '172Nm@1500-4000rpm',\n",
              "       '172Nm@4000rpm', '173Nm@4000rpm', '174Nm@4300rpm',\n",
              "       '175Nm@1500-4100rpm', '175Nm@4000rpm', '18.9Nm@4000rpm',\n",
              "       '180Nm@1750rpm', '180Nm@4400rpm', '183Nm@1800-2400rpm',\n",
              "       '189NM@4300rpm', '190NM@1750-2250RPM', '190Nm@1250-3500rpm',\n",
              "       '190Nm@1750-3000rpm', '190Nm@2000rpm', '192NM@4000rpm',\n",
              "       '195Nm@1400-2200rpm', '195Nm@1440-2200RPM', '196Nm@4000rpm',\n",
              "       '197 Nm @ 1750 RPM', '197Nm@1750RPM', '200NM@1750-3000rpm',\n",
              "       '200Nm@1250-3000rpm', '200Nm@1250-4000rpm', '200Nm@1400-2200rpm',\n",
              "       '200Nm@1750rpm', '200Nm@1900rpm', '200Nm@2000rpm',\n",
              "       '205Nm@1750-3250rpm', '205Nm@1800-2800rpm', '207Nm@2200rpm',\n",
              "       '207Nm@4500rpm', '209Nm@2000rpm', '210Nm@2000-4000RPM',\n",
              "       '210Nm@4200-4400rpm', '212Nm@2000-4000rpm', '215Nm@1750-3000RPM',\n",
              "       '218Nm@1400-2600rpm', '22.4', '220Nm@1500-2750rpm',\n",
              "       '220Nm@1500rpm', '221Nm@3600-5200rpm', '222Nm@4100RPM',\n",
              "       '225Nm@1500-2250rpm', '225Nm@1750rpm', '230Nm@1400-2400rpm',\n",
              "       '230Nm@1500-2500rpm', '240Nm', '240Nm@1500-2250rpm',\n",
              "       '240Nm@1600-2800rpm', '240Nm@1600-500rpm', '240Nm@1750rpm',\n",
              "       '240Nm@2000-2500RPM', '242Nm@1500-3200rpm', '245 Nm @ 4000 rpm',\n",
              "       '245Nm', '245Nm@1200-3400RPM', '245Nm@1750rpm', '245Nm@4000rpm',\n",
              "       '247Nm@1800-2000rpm', '248Nm@2250rpm', '250 Nm @ 1250 RPM',\n",
              "       '250NM', '250NM@1250-5000rpm', '250Nm@1500-2500rpm',\n",
              "       '250Nm@1500-2750rpm', '250Nm@1500-3500', '250Nm@1500-3500rpm',\n",
              "       '250Nm@1750-2500rpm', '250Nm@2500-4000rpm', '260Nm@1500-2750rpm',\n",
              "       '260Nm@1500-3000rpm', '260Nm@1900-2750rpm', '270Nm@1750-2250rpm',\n",
              "       '270Nm@2500RPM', '280NM@1250-4600rpm', '280NM@1250rpm',\n",
              "       '280Nm@1350-4600rpm', '280Nm@1350rpm', '280Nm@1600rpm',\n",
              "       '280Nm@1800-2800rpm', '280Nm@2400-2800rpm', '300NM@2000rpm',\n",
              "       '300Nm@1200-1400rpm', '300Nm@1200-4000rpm', '300Nm@1500rpm',\n",
              "       '300Nm@1600-3000rpm', '300Nm@1750-2500rpm', '300Nm@1750rpm',\n",
              "       '300Nm@2000', '320 Nm@1450-4800rpm', '320NM@1800-2800RPM',\n",
              "       '320Nm@1450-3900rpm', '320Nm@1500-2800rpm', '320Nm@1650-4000rpm',\n",
              "       '320Nm@1700-2700rpm', '320Nm@1750-3000rpm', '320Nm@2000 - 3000rpm',\n",
              "       '320hp@1450-2000rpm', '321 Nm @ 1600 rpm', '330Nm@1750-2800rpm',\n",
              "       '335Nm@4600rpm', '340 Nm @ 1750 rpm', '340NM@1500rpm',\n",
              "       '340NM@2750-5000rpm', '340Nm@1500-3500rpm', '340Nm@1750-2000RPM',\n",
              "       '340Nm@1750-2750rpm', '343Nm@1400-2800rpm', '347Nm@4300rpm',\n",
              "       '350 Nm @ 1450 rpm', '350NM', '350Nm@1400-3400rpm',\n",
              "       '350Nm@1450-4800rpm', '350Nm@1450rpm', '350Nm@1500-2750rpm',\n",
              "       '350Nm@1500-3500rpm', '350Nm@1750-2500rpm', '350Nm@1800-2800rpm',\n",
              "       '350Nm@1800-3500rpm', '350Nm@5100rpm', '353Nm@5000rpm',\n",
              "       '360Nm@1200-3400rpm', '360Nm@1750-2800rpm', '365Nm@1500-4000rpm',\n",
              "       '365Nm@1500-4500rpm', '365Nm@1500rpm', '369Nm@1300-4000rpm',\n",
              "       '370 Nm @ 1600-4500 rpm', '370Nm@1600-4500rpm', '370Nm@1600rpm',\n",
              "       '370Nm@1800-4000rpm', '380Nm@1400-2400rpm', '380Nm@1750-2500rpm',\n",
              "       '380Nm@1800-2800rpm', '380Nm@1950-4500RPM', '380Nm@2400rpm',\n",
              "       '385Nm@1600-2500rpm', '395 Nm', '400 Nm @ 1500 rpm',\n",
              "       '400 Nm @ 1750 RPM', '400NM@1550rpm', '400NM@1750rpm', '400Nm',\n",
              "       '400Nm @1750-3000rpm', '400Nm@1500-4000rpm', '400Nm@1600-2800RPM',\n",
              "       '400Nm@1600rpm', '400Nm@1700-2700rpm', '400Nm@1750-2500rpm',\n",
              "       '400Nm@2000-2500rpm', '400Nm@2000rpm', '400Nm@4300rpm',\n",
              "       '410Nm@1600-2800rpm', '420Nm @1600-2600', '420Nm@1500-3000rpm',\n",
              "       '420Nm@1600-2400rpm', '420Nm@1600-2600rpm', '430NM@1750-2500rpm',\n",
              "       '430NM@1750rpm', '430Nm@1750-2000rpm', '440Nm@1750-2750rpm',\n",
              "       '441Nm@2000rpm', '450 Nm @ 1500 rpm', '450Nm@1340 - 5300rpm',\n",
              "       '450Nm@1340-5300', '450Nm@1380-5000RPM', '450Nm@1500-5200rpm',\n",
              "       '450Nm@1600-2400rpm', '450Nm@2250-5000rpm', '450Nm@3500-5000RPM',\n",
              "       '450Nm@5300RPM', '470Nm@1740RPM', '470Nm@1750-2500rpm',\n",
              "       '470Nm@2100-4800rpm', '475Nm@2250-5000rpm', '480 Nm @ 1750 rpm',\n",
              "       '480Nm@1360rpm', '480Nm@1600-4000RPM', '480Nm@1740RPM',\n",
              "       '480Nm@1750rpm', '480Nm@5250rpm', '500@1600-4500rpm',\n",
              "       '500Nm@1370-4500rpm', '500Nm@1370rpm', '500Nm@1600-2400RPM',\n",
              "       '500Nm@1600rpm', '500Nm@4500-5000rpm', '510Nm@4750rpm',\n",
              "       '515Nm@4250-4300RPM', '51Nm@4000rpm', '520NM@4750rpm',\n",
              "       '530Nm@5000rpm', '540 Nm @ 6500 rpm', '540Nm@6000rpm',\n",
              "       '540Nm@6500rpm', '546Nm@1600-2600rpm', '550Nm@1850-5500rpm',\n",
              "       '550Nm@2350-5230rpm', '560Nm@1500-3000rpm', '560Nm@6500rpm',\n",
              "       '570Nm@2000-2600rpm', '570Nm@2000rpm', '580Nm@4500-5000rpm',\n",
              "       '59Nm@2500rpm', '600Nm @ 1750-2250 rpm', '600Nm@1500-3000rpm',\n",
              "       '600Nm@1750-2250rpm', '600Nm@1900-5000rpm', '600Nm@2000-2600rpm',\n",
              "       '600Nm@2000rpm', '600Nm@2500rpm', '600Nm@3500rpm', '600Nm@6500rpm',\n",
              "       '619Nm@1600-2400RPM', '620 Nm @ 1500 rpm', '620Nm@1500-2500rpm',\n",
              "       '620Nm@1600-2400rpm', '620Nm@1600rpm', '620Nm@2000-2500RPM',\n",
              "       '624 Nm @ 4100 rpm', '625Nm@2500-5500rpm', '630Nm@1700-5000rpm',\n",
              "       '630Nm@5500rpm', '637Nm@3200rpm', '640Nm@2200rpm',\n",
              "       '650Nm@1600-2600rpm', '650Nm@1750-4750rpm', '660NM@1700rpm',\n",
              "       '680Nm@2500RPM', '685Nm@2000-5000rpm', '689Nm@1800rpm',\n",
              "       '690Nm@5500rpm', '690Nm@5506RPM', '697Nm@5250RPM', '69Nm@3500rpm',\n",
              "       '700Nm@1200-3200rpm', '700Nm@1500rpm', '700Nm@1750-5500rpm',\n",
              "       '700Nm@1750RPM', '700Nm@1800-3500RPM', '700Nm@1900 rpm',\n",
              "       '700Nm@1900-5500rpm', '700Nm@3500-4000rpm', '700Nm@3500-5000rpm',\n",
              "       '700Nm@3500rpm', '70Nm@1000rpm', '718 Nm @ 7000 rpm',\n",
              "       '720Nm@1750-5250RPM', '720Nm@1800rpm', '720Nm@3500rpm',\n",
              "       '72Nm@4386rpm', '740Nm@1750-2250rpm', '740Nm@2250rpm',\n",
              "       '750Nm@1800-5860rpm', '755NM@4750rpm', '760NM@3000rpm',\n",
              "       '760Nm@5250RPM', '770Nm@1350rpm', '770Nm@1960 - 4500rpm',\n",
              "       '770Nm@2000-4500', '770Nm@4500RPM', '780 Nm @ 1500-5000 rpm',\n",
              "       '780Nm@1500-5000RPM', '780Nm@1700rpm', '78Nm@3500rpm',\n",
              "       '8.3KGM@4500rpm', '800Nm@1500-5500rpm', '800Nm@1600-6100rpm',\n",
              "       '850 Nm@1600rpm', '850Nm@1550-5000RPM', '850Nm@2250-4500rpm',\n",
              "       '850Nm@2500-3500rpm', '85Nm@3000rpm', '900Nm@1350rpm',\n",
              "       '900Nm@2750-4500rpm', '90Nm@3500rpm', '91Nm@3000rpm',\n",
              "       '91Nm@4250RPM', '95Nm@3000-4300rpm', '95Nm@4000rpm',\n",
              "       '96Nm@2500RPM', '96Nm@3500rpm', '99.04nm@4500RPM', nan],\n",
              "      dtype=object)"
            ]
          },
          "metadata": {},
          "execution_count": 75
        }
      ]
    },
    {
      "cell_type": "code",
      "source": [
        "df['City_Mileage']"
      ],
      "metadata": {
        "colab": {
          "base_uri": "https://localhost:8080/"
        },
        "id": "AaoRi3eb7QWP",
        "outputId": "00869821-8562-420c-8320-c55cb2090354"
      },
      "execution_count": null,
      "outputs": [
        {
          "output_type": "execute_result",
          "data": {
            "text/plain": [
              "0       23.60\n",
              "1       23.60\n",
              "2       28.86\n",
              "3       23.60\n",
              "4       23.60\n",
              "        ...  \n",
              "1271    22.60\n",
              "1272    22.60\n",
              "1273    18.00\n",
              "1274    14.30\n",
              "1275     8.25\n",
              "Name: City_Mileage, Length: 1276, dtype: float64"
            ]
          },
          "metadata": {},
          "execution_count": 76
        }
      ]
    },
    {
      "cell_type": "code",
      "source": [
        "df.Fuel_Tank_Capacity=df.Fuel_Tank_Capacity.str.rstrip(\"litres\")"
      ],
      "metadata": {
        "id": "RWbI6T1P7SmI"
      },
      "execution_count": null,
      "outputs": []
    },
    {
      "cell_type": "code",
      "source": [
        "df.Fuel_Tank_Capacity"
      ],
      "metadata": {
        "colab": {
          "base_uri": "https://localhost:8080/"
        },
        "id": "X4CmrC6Z7U5e",
        "outputId": "dc6b1807-c7e7-4287-fc81-9fcbeddbdf57"
      },
      "execution_count": null,
      "outputs": [
        {
          "output_type": "execute_result",
          "data": {
            "text/plain": [
              "0       24 \n",
              "1       24 \n",
              "2       15 \n",
              "3       24 \n",
              "4       24 \n",
              "       ... \n",
              "1271    40 \n",
              "1272    40 \n",
              "1273    40 \n",
              "1274    40 \n",
              "1275    88 \n",
              "Name: Fuel_Tank_Capacity, Length: 1276, dtype: object"
            ]
          },
          "metadata": {},
          "execution_count": 79
        }
      ]
    },
    {
      "cell_type": "code",
      "source": [
        "df.Fuel_Tank_Capacity=pd.to_numeric(df['Fuel_Tank_Capacity'])"
      ],
      "metadata": {
        "id": "YoUFlB_a7b8W"
      },
      "execution_count": null,
      "outputs": []
    },
    {
      "cell_type": "code",
      "source": [
        "\n",
        "\n",
        "df.Fuel_Tank_Capacity.isnull().sum()\n",
        "\n"
      ],
      "metadata": {
        "colab": {
          "base_uri": "https://localhost:8080/"
        },
        "id": "3P4ZlwyC7eNt",
        "outputId": "162813be-584f-4edd-dcce-36a13f35e057"
      },
      "execution_count": null,
      "outputs": [
        {
          "output_type": "execute_result",
          "data": {
            "text/plain": [
              "69"
            ]
          },
          "metadata": {},
          "execution_count": 81
        }
      ]
    },
    {
      "cell_type": "code",
      "source": [
        "df.Fuel_Tank_Capacity.mode()"
      ],
      "metadata": {
        "colab": {
          "base_uri": "https://localhost:8080/"
        },
        "id": "KqHuT54d7f9F",
        "outputId": "1d15bea5-db2f-4939-96bf-6539ff74c46c"
      },
      "execution_count": null,
      "outputs": [
        {
          "output_type": "execute_result",
          "data": {
            "text/plain": [
              "0    45.0\n",
              "dtype: float64"
            ]
          },
          "metadata": {},
          "execution_count": 82
        }
      ]
    },
    {
      "cell_type": "code",
      "source": [
        "df.Fuel_Tank_Capacity=df.Fuel_Tank_Capacity.fillna(45)"
      ],
      "metadata": {
        "id": "ZxEqjF6H7iVS"
      },
      "execution_count": null,
      "outputs": []
    },
    {
      "cell_type": "code",
      "source": [
        "df.Fuel_Tank_Capacity.isnull().sum()"
      ],
      "metadata": {
        "colab": {
          "base_uri": "https://localhost:8080/"
        },
        "id": "0LR5QBdx7ppL",
        "outputId": "3149c1ef-8c16-4d85-e286-273d10986b93"
      },
      "execution_count": null,
      "outputs": [
        {
          "output_type": "execute_result",
          "data": {
            "text/plain": [
              "0"
            ]
          },
          "metadata": {},
          "execution_count": 84
        }
      ]
    },
    {
      "cell_type": "code",
      "source": [
        "col.columns"
      ],
      "metadata": {
        "colab": {
          "base_uri": "https://localhost:8080/"
        },
        "id": "uzGbX10t7stw",
        "outputId": "d28b0048-ed01-4ed4-aa0f-adee62a45915"
      },
      "execution_count": null,
      "outputs": [
        {
          "output_type": "execute_result",
          "data": {
            "text/plain": [
              "Index(['Make', 'Model', 'Body_Type', 'Variant', 'Ex-Showroom_Price',\n",
              "       'Fuel_Tank_Capacity', 'Cylinders', 'Power', 'Torque', 'Boot_Space',\n",
              "       'City_Mileage', 'Highway_Mileage', 'MakeLabEnc', 'ModelLabEnc',\n",
              "       'Body_typeLabEnc', 'PowerLabEnc', 'TorqueLabEnc'],\n",
              "      dtype='object')"
            ]
          },
          "metadata": {},
          "execution_count": 85
        }
      ]
    },
    {
      "cell_type": "code",
      "source": [
        "col.Torque"
      ],
      "metadata": {
        "colab": {
          "base_uri": "https://localhost:8080/"
        },
        "id": "JsbOgvGd76RA",
        "outputId": "304f6a78-9b1d-45f8-d447-e7a62d2ef011"
      },
      "execution_count": null,
      "outputs": [
        {
          "output_type": "execute_result",
          "data": {
            "text/plain": [
              "0        51Nm@4000rpm\n",
              "1        51Nm@4000rpm\n",
              "2        51Nm@4000rpm\n",
              "3        51Nm@4000rpm\n",
              "4        51Nm@4000rpm\n",
              "            ...      \n",
              "1271    200Nm@1750rpm\n",
              "1272    200Nm@1750rpm\n",
              "1273    145Nm@4600rpm\n",
              "1274    145Nm@4600rpm\n",
              "1275    441Nm@2000rpm\n",
              "Name: Torque, Length: 1276, dtype: object"
            ]
          },
          "metadata": {},
          "execution_count": 88
        }
      ]
    },
    {
      "cell_type": "code",
      "source": [
        "col.Power"
      ],
      "metadata": {
        "colab": {
          "base_uri": "https://localhost:8080/"
        },
        "id": "Hao_qcih78-3",
        "outputId": "cffba834-46e8-4f67-9639-fe35b6b647ac"
      },
      "execution_count": null,
      "outputs": [
        {
          "output_type": "execute_result",
          "data": {
            "text/plain": [
              "0        38PS@5500rpm\n",
              "1        38PS@5500rpm\n",
              "2        38PS@5500rpm\n",
              "3        38PS@5500rpm\n",
              "4        38PS@5500rpm\n",
              "            ...      \n",
              "1271    100PS@3600rpm\n",
              "1272    100PS@3600rpm\n",
              "1273    119PS@6600rpm\n",
              "1274    119PS@6600rpm\n",
              "1275    202ps@3800rpm\n",
              "Name: Power, Length: 1276, dtype: object"
            ]
          },
          "metadata": {},
          "execution_count": 89
        }
      ]
    },
    {
      "cell_type": "code",
      "source": [
        "col.Fuel_Tank_Capacity"
      ],
      "metadata": {
        "colab": {
          "base_uri": "https://localhost:8080/"
        },
        "id": "00f_R9mC-G7E",
        "outputId": "8458d0cb-201d-4077-d399-661e24356f10"
      },
      "execution_count": null,
      "outputs": [
        {
          "output_type": "execute_result",
          "data": {
            "text/plain": [
              "0       24 litres\n",
              "1       24 litres\n",
              "2       15 litres\n",
              "3       24 litres\n",
              "4       24 litres\n",
              "          ...    \n",
              "1271    40 litres\n",
              "1272    40 litres\n",
              "1273    40 litres\n",
              "1274    40 litres\n",
              "1275    88 litres\n",
              "Name: Fuel_Tank_Capacity, Length: 1276, dtype: object"
            ]
          },
          "metadata": {},
          "execution_count": 92
        }
      ]
    },
    {
      "cell_type": "code",
      "source": [
        "col.Fuel_Tank_Capacity=col.Fuel_Tank_Capacity.str.replace('litres',' ')"
      ],
      "metadata": {
        "colab": {
          "base_uri": "https://localhost:8080/"
        },
        "id": "xK7QgH7L-JT5",
        "outputId": "d5608df5-6078-4b1e-a940-3c9b003a37c1"
      },
      "execution_count": null,
      "outputs": [
        {
          "output_type": "stream",
          "name": "stderr",
          "text": [
            "/usr/local/lib/python3.7/dist-packages/pandas/core/generic.py:5516: SettingWithCopyWarning: \n",
            "A value is trying to be set on a copy of a slice from a DataFrame.\n",
            "Try using .loc[row_indexer,col_indexer] = value instead\n",
            "\n",
            "See the caveats in the documentation: https://pandas.pydata.org/pandas-docs/stable/user_guide/indexing.html#returning-a-view-versus-a-copy\n",
            "  self[name] = value\n"
          ]
        }
      ]
    },
    {
      "cell_type": "code",
      "source": [
        "col.Fuel_Tank_Capacity"
      ],
      "metadata": {
        "colab": {
          "base_uri": "https://localhost:8080/"
        },
        "id": "VIiA7L_E-LCv",
        "outputId": "1da1654e-0a3a-4114-9559-48d9331067a0"
      },
      "execution_count": null,
      "outputs": [
        {
          "output_type": "execute_result",
          "data": {
            "text/plain": [
              "0       24  \n",
              "1       24  \n",
              "2       15  \n",
              "3       24  \n",
              "4       24  \n",
              "        ... \n",
              "1271    40  \n",
              "1272    40  \n",
              "1273    40  \n",
              "1274    40  \n",
              "1275    88  \n",
              "Name: Fuel_Tank_Capacity, Length: 1276, dtype: object"
            ]
          },
          "metadata": {},
          "execution_count": 94
        }
      ]
    },
    {
      "cell_type": "code",
      "source": [
        "col.Fuel_Tank_Capacity=pd.to_numeric(col.Fuel_Tank_Capacity)"
      ],
      "metadata": {
        "colab": {
          "base_uri": "https://localhost:8080/"
        },
        "id": "SyyCl5tw-M-r",
        "outputId": "1c5a40f7-854f-4300-f816-aaa85ecfcd5c"
      },
      "execution_count": null,
      "outputs": [
        {
          "output_type": "stream",
          "name": "stderr",
          "text": [
            "/usr/local/lib/python3.7/dist-packages/pandas/core/generic.py:5516: SettingWithCopyWarning: \n",
            "A value is trying to be set on a copy of a slice from a DataFrame.\n",
            "Try using .loc[row_indexer,col_indexer] = value instead\n",
            "\n",
            "See the caveats in the documentation: https://pandas.pydata.org/pandas-docs/stable/user_guide/indexing.html#returning-a-view-versus-a-copy\n",
            "  self[name] = value\n"
          ]
        }
      ]
    },
    {
      "cell_type": "code",
      "source": [
        "\n",
        "\n",
        "col.Fuel_Tank_Capacity\n",
        "\n"
      ],
      "metadata": {
        "colab": {
          "base_uri": "https://localhost:8080/"
        },
        "id": "whFW-7kD-Onq",
        "outputId": "7a2f9278-6363-4d34-d3bf-3789bed44d3d"
      },
      "execution_count": null,
      "outputs": [
        {
          "output_type": "execute_result",
          "data": {
            "text/plain": [
              "0       24.0\n",
              "1       24.0\n",
              "2       15.0\n",
              "3       24.0\n",
              "4       24.0\n",
              "        ... \n",
              "1271    40.0\n",
              "1272    40.0\n",
              "1273    40.0\n",
              "1274    40.0\n",
              "1275    88.0\n",
              "Name: Fuel_Tank_Capacity, Length: 1276, dtype: float64"
            ]
          },
          "metadata": {},
          "execution_count": 96
        }
      ]
    },
    {
      "cell_type": "code",
      "source": [
        "df['City_Mileage'].describe()"
      ],
      "metadata": {
        "colab": {
          "base_uri": "https://localhost:8080/"
        },
        "id": "v2CYxsGU-Vr5",
        "outputId": "62aabd43-7cd4-49e6-ba3d-fad87104bf06"
      },
      "execution_count": null,
      "outputs": [
        {
          "output_type": "execute_result",
          "data": {
            "text/plain": [
              "count     1276.000000\n",
              "mean        42.183911\n",
              "std        728.205708\n",
              "min          2.000000\n",
              "25%         14.500000\n",
              "50%         23.840000\n",
              "75%         28.860000\n",
              "max      26032.000000\n",
              "Name: City_Mileage, dtype: float64"
            ]
          },
          "metadata": {},
          "execution_count": 97
        }
      ]
    },
    {
      "cell_type": "code",
      "source": [
        "df.Height=df.Height.str.replace(\"mm\",' ')\n",
        "df.Height=pd.to_numeric(df.Height)"
      ],
      "metadata": {
        "id": "UNw_4d8H-XUk"
      },
      "execution_count": null,
      "outputs": []
    },
    {
      "cell_type": "code",
      "source": [
        "df.Height"
      ],
      "metadata": {
        "colab": {
          "base_uri": "https://localhost:8080/"
        },
        "id": "I64vCiQa-YxF",
        "outputId": "ef58c635-a0f8-465e-9b33-fe75617820a2"
      },
      "execution_count": null,
      "outputs": [
        {
          "output_type": "execute_result",
          "data": {
            "text/plain": [
              "0       1652.0\n",
              "1       1652.0\n",
              "2       1652.0\n",
              "3       1652.0\n",
              "4       1652.0\n",
              "         ...  \n",
              "1271    1495.0\n",
              "1272    1495.0\n",
              "1273    1495.0\n",
              "1274    1495.0\n",
              "1275    1900.0\n",
              "Name: Height, Length: 1276, dtype: float64"
            ]
          },
          "metadata": {},
          "execution_count": 99
        }
      ]
    },
    {
      "cell_type": "code",
      "source": [
        "df.Width=df.Width.str.replace(\"mm\",' ')\n",
        "df.Width=pd.to_numeric(df.Width)\n",
        "df.Length=df.Length.str.replace(\"mm\",' ')\n",
        "df.Length=pd.to_numeric(df.Length)"
      ],
      "metadata": {
        "id": "CgtTJlfn-aoA"
      },
      "execution_count": null,
      "outputs": []
    },
    {
      "cell_type": "code",
      "source": [
        "col.head(1275)"
      ],
      "metadata": {
        "colab": {
          "base_uri": "https://localhost:8080/",
          "height": 2746
        },
        "id": "OwxDnrUcCqjq",
        "outputId": "8d96f5f1-d4e7-420c-9f0e-18848cf1e1cb"
      },
      "execution_count": null,
      "outputs": [
        {
          "output_type": "execute_result",
          "data": {
            "text/plain": [
              "       Make      Model  Body_Type        Variant  Ex-Showroom_Price  \\\n",
              "0      Tata  Nano Genx  Hatchback             Xt             292667   \n",
              "1      Tata  Nano Genx  Hatchback             Xe             236447   \n",
              "2      Tata  Nano Genx  Hatchback        Emax Xm             296661   \n",
              "3      Tata  Nano Genx  Hatchback            Xta             334768   \n",
              "4      Tata  Nano Genx  Hatchback             Xm             272223   \n",
              "...     ...        ...        ...            ...                ...   \n",
              "1270  Honda       City      Sedan    V Mt Diesel            1191000   \n",
              "1271  Honda       City      Sedan   Vx Mt Diesel            1302000   \n",
              "1272  Honda       City      Sedan   Zx Mt Diesel            1421000   \n",
              "1273  Honda       City      Sedan  Zx Cvt Petrol            1431000   \n",
              "1274  Honda       City      Sedan   V Cvt Petrol            1201000   \n",
              "\n",
              "      Fuel_Tank_Capacity  Cylinders          Power         Torque  Boot_Space  \\\n",
              "0                   24.0        2.0   38PS@5500rpm   51Nm@4000rpm       110.0   \n",
              "1                   24.0        2.0   38PS@5500rpm   51Nm@4000rpm       110.0   \n",
              "2                   15.0        2.0   38PS@5500rpm   51Nm@4000rpm       110.0   \n",
              "3                   24.0        2.0   38PS@5500rpm   51Nm@4000rpm        94.0   \n",
              "4                   24.0        2.0   38PS@5500rpm   51Nm@4000rpm       110.0   \n",
              "...                  ...        ...            ...            ...         ...   \n",
              "1270                40.0        4.0  100PS@3600rpm  200Nm@1750rpm       510.0   \n",
              "1271                40.0        4.0  100PS@3600rpm  200Nm@1750rpm       510.0   \n",
              "1272                40.0        4.0  100PS@3600rpm  200Nm@1750rpm       510.0   \n",
              "1273                40.0        4.0  119PS@6600rpm  145Nm@4600rpm       510.0   \n",
              "1274                40.0        4.0  119PS@6600rpm  145Nm@4600rpm       510.0   \n",
              "\n",
              "      City_Mileage  Highway_Mileage  MakeLabEnc  ModelLabEnc  Body_typeLabEnc  \\\n",
              "0            23.60             22.0          37          158                5   \n",
              "1            23.60             22.0          37          158                5   \n",
              "2            28.86             22.0          37          158                5   \n",
              "3            23.60             22.0          37          158                5   \n",
              "4            23.60             22.0          37          158                5   \n",
              "...            ...              ...         ...          ...              ...   \n",
              "1270         22.60             25.6          12           49               11   \n",
              "1271         22.60             25.1          12           49               11   \n",
              "1272         22.60             25.1          12           49               11   \n",
              "1273         18.00             18.0          12           49               11   \n",
              "1274         14.30             16.4          12           49               11   \n",
              "\n",
              "      PowerLabEnc  TorqueLabEnc  \n",
              "0             221           248  \n",
              "1             221           248  \n",
              "2             221           248  \n",
              "3             221           248  \n",
              "4             221           248  \n",
              "...           ...           ...  \n",
              "1270            0            83  \n",
              "1271            0            83  \n",
              "1272            0            83  \n",
              "1273           35            40  \n",
              "1274           35            40  \n",
              "\n",
              "[1275 rows x 17 columns]"
            ],
            "text/html": [
              "\n",
              "  <div id=\"df-89199ac5-ef4d-4639-a93f-5e4ad11d9d82\">\n",
              "    <div class=\"colab-df-container\">\n",
              "      <div>\n",
              "<style scoped>\n",
              "    .dataframe tbody tr th:only-of-type {\n",
              "        vertical-align: middle;\n",
              "    }\n",
              "\n",
              "    .dataframe tbody tr th {\n",
              "        vertical-align: top;\n",
              "    }\n",
              "\n",
              "    .dataframe thead th {\n",
              "        text-align: right;\n",
              "    }\n",
              "</style>\n",
              "<table border=\"1\" class=\"dataframe\">\n",
              "  <thead>\n",
              "    <tr style=\"text-align: right;\">\n",
              "      <th></th>\n",
              "      <th>Make</th>\n",
              "      <th>Model</th>\n",
              "      <th>Body_Type</th>\n",
              "      <th>Variant</th>\n",
              "      <th>Ex-Showroom_Price</th>\n",
              "      <th>Fuel_Tank_Capacity</th>\n",
              "      <th>Cylinders</th>\n",
              "      <th>Power</th>\n",
              "      <th>Torque</th>\n",
              "      <th>Boot_Space</th>\n",
              "      <th>City_Mileage</th>\n",
              "      <th>Highway_Mileage</th>\n",
              "      <th>MakeLabEnc</th>\n",
              "      <th>ModelLabEnc</th>\n",
              "      <th>Body_typeLabEnc</th>\n",
              "      <th>PowerLabEnc</th>\n",
              "      <th>TorqueLabEnc</th>\n",
              "    </tr>\n",
              "  </thead>\n",
              "  <tbody>\n",
              "    <tr>\n",
              "      <th>0</th>\n",
              "      <td>Tata</td>\n",
              "      <td>Nano Genx</td>\n",
              "      <td>Hatchback</td>\n",
              "      <td>Xt</td>\n",
              "      <td>292667</td>\n",
              "      <td>24.0</td>\n",
              "      <td>2.0</td>\n",
              "      <td>38PS@5500rpm</td>\n",
              "      <td>51Nm@4000rpm</td>\n",
              "      <td>110.0</td>\n",
              "      <td>23.60</td>\n",
              "      <td>22.0</td>\n",
              "      <td>37</td>\n",
              "      <td>158</td>\n",
              "      <td>5</td>\n",
              "      <td>221</td>\n",
              "      <td>248</td>\n",
              "    </tr>\n",
              "    <tr>\n",
              "      <th>1</th>\n",
              "      <td>Tata</td>\n",
              "      <td>Nano Genx</td>\n",
              "      <td>Hatchback</td>\n",
              "      <td>Xe</td>\n",
              "      <td>236447</td>\n",
              "      <td>24.0</td>\n",
              "      <td>2.0</td>\n",
              "      <td>38PS@5500rpm</td>\n",
              "      <td>51Nm@4000rpm</td>\n",
              "      <td>110.0</td>\n",
              "      <td>23.60</td>\n",
              "      <td>22.0</td>\n",
              "      <td>37</td>\n",
              "      <td>158</td>\n",
              "      <td>5</td>\n",
              "      <td>221</td>\n",
              "      <td>248</td>\n",
              "    </tr>\n",
              "    <tr>\n",
              "      <th>2</th>\n",
              "      <td>Tata</td>\n",
              "      <td>Nano Genx</td>\n",
              "      <td>Hatchback</td>\n",
              "      <td>Emax Xm</td>\n",
              "      <td>296661</td>\n",
              "      <td>15.0</td>\n",
              "      <td>2.0</td>\n",
              "      <td>38PS@5500rpm</td>\n",
              "      <td>51Nm@4000rpm</td>\n",
              "      <td>110.0</td>\n",
              "      <td>28.86</td>\n",
              "      <td>22.0</td>\n",
              "      <td>37</td>\n",
              "      <td>158</td>\n",
              "      <td>5</td>\n",
              "      <td>221</td>\n",
              "      <td>248</td>\n",
              "    </tr>\n",
              "    <tr>\n",
              "      <th>3</th>\n",
              "      <td>Tata</td>\n",
              "      <td>Nano Genx</td>\n",
              "      <td>Hatchback</td>\n",
              "      <td>Xta</td>\n",
              "      <td>334768</td>\n",
              "      <td>24.0</td>\n",
              "      <td>2.0</td>\n",
              "      <td>38PS@5500rpm</td>\n",
              "      <td>51Nm@4000rpm</td>\n",
              "      <td>94.0</td>\n",
              "      <td>23.60</td>\n",
              "      <td>22.0</td>\n",
              "      <td>37</td>\n",
              "      <td>158</td>\n",
              "      <td>5</td>\n",
              "      <td>221</td>\n",
              "      <td>248</td>\n",
              "    </tr>\n",
              "    <tr>\n",
              "      <th>4</th>\n",
              "      <td>Tata</td>\n",
              "      <td>Nano Genx</td>\n",
              "      <td>Hatchback</td>\n",
              "      <td>Xm</td>\n",
              "      <td>272223</td>\n",
              "      <td>24.0</td>\n",
              "      <td>2.0</td>\n",
              "      <td>38PS@5500rpm</td>\n",
              "      <td>51Nm@4000rpm</td>\n",
              "      <td>110.0</td>\n",
              "      <td>23.60</td>\n",
              "      <td>22.0</td>\n",
              "      <td>37</td>\n",
              "      <td>158</td>\n",
              "      <td>5</td>\n",
              "      <td>221</td>\n",
              "      <td>248</td>\n",
              "    </tr>\n",
              "    <tr>\n",
              "      <th>...</th>\n",
              "      <td>...</td>\n",
              "      <td>...</td>\n",
              "      <td>...</td>\n",
              "      <td>...</td>\n",
              "      <td>...</td>\n",
              "      <td>...</td>\n",
              "      <td>...</td>\n",
              "      <td>...</td>\n",
              "      <td>...</td>\n",
              "      <td>...</td>\n",
              "      <td>...</td>\n",
              "      <td>...</td>\n",
              "      <td>...</td>\n",
              "      <td>...</td>\n",
              "      <td>...</td>\n",
              "      <td>...</td>\n",
              "      <td>...</td>\n",
              "    </tr>\n",
              "    <tr>\n",
              "      <th>1270</th>\n",
              "      <td>Honda</td>\n",
              "      <td>City</td>\n",
              "      <td>Sedan</td>\n",
              "      <td>V Mt Diesel</td>\n",
              "      <td>1191000</td>\n",
              "      <td>40.0</td>\n",
              "      <td>4.0</td>\n",
              "      <td>100PS@3600rpm</td>\n",
              "      <td>200Nm@1750rpm</td>\n",
              "      <td>510.0</td>\n",
              "      <td>22.60</td>\n",
              "      <td>25.6</td>\n",
              "      <td>12</td>\n",
              "      <td>49</td>\n",
              "      <td>11</td>\n",
              "      <td>0</td>\n",
              "      <td>83</td>\n",
              "    </tr>\n",
              "    <tr>\n",
              "      <th>1271</th>\n",
              "      <td>Honda</td>\n",
              "      <td>City</td>\n",
              "      <td>Sedan</td>\n",
              "      <td>Vx Mt Diesel</td>\n",
              "      <td>1302000</td>\n",
              "      <td>40.0</td>\n",
              "      <td>4.0</td>\n",
              "      <td>100PS@3600rpm</td>\n",
              "      <td>200Nm@1750rpm</td>\n",
              "      <td>510.0</td>\n",
              "      <td>22.60</td>\n",
              "      <td>25.1</td>\n",
              "      <td>12</td>\n",
              "      <td>49</td>\n",
              "      <td>11</td>\n",
              "      <td>0</td>\n",
              "      <td>83</td>\n",
              "    </tr>\n",
              "    <tr>\n",
              "      <th>1272</th>\n",
              "      <td>Honda</td>\n",
              "      <td>City</td>\n",
              "      <td>Sedan</td>\n",
              "      <td>Zx Mt Diesel</td>\n",
              "      <td>1421000</td>\n",
              "      <td>40.0</td>\n",
              "      <td>4.0</td>\n",
              "      <td>100PS@3600rpm</td>\n",
              "      <td>200Nm@1750rpm</td>\n",
              "      <td>510.0</td>\n",
              "      <td>22.60</td>\n",
              "      <td>25.1</td>\n",
              "      <td>12</td>\n",
              "      <td>49</td>\n",
              "      <td>11</td>\n",
              "      <td>0</td>\n",
              "      <td>83</td>\n",
              "    </tr>\n",
              "    <tr>\n",
              "      <th>1273</th>\n",
              "      <td>Honda</td>\n",
              "      <td>City</td>\n",
              "      <td>Sedan</td>\n",
              "      <td>Zx Cvt Petrol</td>\n",
              "      <td>1431000</td>\n",
              "      <td>40.0</td>\n",
              "      <td>4.0</td>\n",
              "      <td>119PS@6600rpm</td>\n",
              "      <td>145Nm@4600rpm</td>\n",
              "      <td>510.0</td>\n",
              "      <td>18.00</td>\n",
              "      <td>18.0</td>\n",
              "      <td>12</td>\n",
              "      <td>49</td>\n",
              "      <td>11</td>\n",
              "      <td>35</td>\n",
              "      <td>40</td>\n",
              "    </tr>\n",
              "    <tr>\n",
              "      <th>1274</th>\n",
              "      <td>Honda</td>\n",
              "      <td>City</td>\n",
              "      <td>Sedan</td>\n",
              "      <td>V Cvt Petrol</td>\n",
              "      <td>1201000</td>\n",
              "      <td>40.0</td>\n",
              "      <td>4.0</td>\n",
              "      <td>119PS@6600rpm</td>\n",
              "      <td>145Nm@4600rpm</td>\n",
              "      <td>510.0</td>\n",
              "      <td>14.30</td>\n",
              "      <td>16.4</td>\n",
              "      <td>12</td>\n",
              "      <td>49</td>\n",
              "      <td>11</td>\n",
              "      <td>35</td>\n",
              "      <td>40</td>\n",
              "    </tr>\n",
              "  </tbody>\n",
              "</table>\n",
              "<p>1275 rows × 17 columns</p>\n",
              "</div>\n",
              "      <button class=\"colab-df-convert\" onclick=\"convertToInteractive('df-89199ac5-ef4d-4639-a93f-5e4ad11d9d82')\"\n",
              "              title=\"Convert this dataframe to an interactive table.\"\n",
              "              style=\"display:none;\">\n",
              "        \n",
              "  <svg xmlns=\"http://www.w3.org/2000/svg\" height=\"24px\"viewBox=\"0 0 24 24\"\n",
              "       width=\"24px\">\n",
              "    <path d=\"M0 0h24v24H0V0z\" fill=\"none\"/>\n",
              "    <path d=\"M18.56 5.44l.94 2.06.94-2.06 2.06-.94-2.06-.94-.94-2.06-.94 2.06-2.06.94zm-11 1L8.5 8.5l.94-2.06 2.06-.94-2.06-.94L8.5 2.5l-.94 2.06-2.06.94zm10 10l.94 2.06.94-2.06 2.06-.94-2.06-.94-.94-2.06-.94 2.06-2.06.94z\"/><path d=\"M17.41 7.96l-1.37-1.37c-.4-.4-.92-.59-1.43-.59-.52 0-1.04.2-1.43.59L10.3 9.45l-7.72 7.72c-.78.78-.78 2.05 0 2.83L4 21.41c.39.39.9.59 1.41.59.51 0 1.02-.2 1.41-.59l7.78-7.78 2.81-2.81c.8-.78.8-2.07 0-2.86zM5.41 20L4 18.59l7.72-7.72 1.47 1.35L5.41 20z\"/>\n",
              "  </svg>\n",
              "      </button>\n",
              "      \n",
              "  <style>\n",
              "    .colab-df-container {\n",
              "      display:flex;\n",
              "      flex-wrap:wrap;\n",
              "      gap: 12px;\n",
              "    }\n",
              "\n",
              "    .colab-df-convert {\n",
              "      background-color: #E8F0FE;\n",
              "      border: none;\n",
              "      border-radius: 50%;\n",
              "      cursor: pointer;\n",
              "      display: none;\n",
              "      fill: #1967D2;\n",
              "      height: 32px;\n",
              "      padding: 0 0 0 0;\n",
              "      width: 32px;\n",
              "    }\n",
              "\n",
              "    .colab-df-convert:hover {\n",
              "      background-color: #E2EBFA;\n",
              "      box-shadow: 0px 1px 2px rgba(60, 64, 67, 0.3), 0px 1px 3px 1px rgba(60, 64, 67, 0.15);\n",
              "      fill: #174EA6;\n",
              "    }\n",
              "\n",
              "    [theme=dark] .colab-df-convert {\n",
              "      background-color: #3B4455;\n",
              "      fill: #D2E3FC;\n",
              "    }\n",
              "\n",
              "    [theme=dark] .colab-df-convert:hover {\n",
              "      background-color: #434B5C;\n",
              "      box-shadow: 0px 1px 3px 1px rgba(0, 0, 0, 0.15);\n",
              "      filter: drop-shadow(0px 1px 2px rgba(0, 0, 0, 0.3));\n",
              "      fill: #FFFFFF;\n",
              "    }\n",
              "  </style>\n",
              "\n",
              "      <script>\n",
              "        const buttonEl =\n",
              "          document.querySelector('#df-89199ac5-ef4d-4639-a93f-5e4ad11d9d82 button.colab-df-convert');\n",
              "        buttonEl.style.display =\n",
              "          google.colab.kernel.accessAllowed ? 'block' : 'none';\n",
              "\n",
              "        async function convertToInteractive(key) {\n",
              "          const element = document.querySelector('#df-89199ac5-ef4d-4639-a93f-5e4ad11d9d82');\n",
              "          const dataTable =\n",
              "            await google.colab.kernel.invokeFunction('convertToInteractive',\n",
              "                                                     [key], {});\n",
              "          if (!dataTable) return;\n",
              "\n",
              "          const docLinkHtml = 'Like what you see? Visit the ' +\n",
              "            '<a target=\"_blank\" href=https://colab.research.google.com/notebooks/data_table.ipynb>data table notebook</a>'\n",
              "            + ' to learn more about interactive tables.';\n",
              "          element.innerHTML = '';\n",
              "          dataTable['output_type'] = 'display_data';\n",
              "          await google.colab.output.renderOutput(dataTable, element);\n",
              "          const docLink = document.createElement('div');\n",
              "          docLink.innerHTML = docLinkHtml;\n",
              "          element.appendChild(docLink);\n",
              "        }\n",
              "      </script>\n",
              "    </div>\n",
              "  </div>\n",
              "  "
            ]
          },
          "metadata": {},
          "execution_count": 114
        }
      ]
    },
    {
      "cell_type": "code",
      "source": [
        "\n",
        "price_data = col['Ex-Showroom_Price']"
      ],
      "metadata": {
        "id": "NnnE1NZRFqVV"
      },
      "execution_count": null,
      "outputs": []
    },
    {
      "cell_type": "markdown",
      "source": [
        "Models that will be trained\n",
        "\n",
        "    Linear Regression\n",
        "    Polynomial Regression\n",
        "    Support Vector Regression\n",
        "    Decision Trees\n"
      ],
      "metadata": {
        "id": "BRfU6w6H-hLw"
      }
    },
    {
      "cell_type": "code",
      "source": [
        "#Export as download if in colab\n",
        "from google.colab import files\n",
        "col.to_csv('cars.csv', sep='\\t')\n",
        "files.download('cars.csv')"
      ],
      "metadata": {
        "colab": {
          "base_uri": "https://localhost:8080/",
          "height": 17
        },
        "id": "OnHApLSpNE4T",
        "outputId": "fad17a4c-5d81-45ec-b540-ff46614b0433"
      },
      "execution_count": null,
      "outputs": [
        {
          "output_type": "display_data",
          "data": {
            "text/plain": [
              "<IPython.core.display.Javascript object>"
            ],
            "application/javascript": [
              "\n",
              "    async function download(id, filename, size) {\n",
              "      if (!google.colab.kernel.accessAllowed) {\n",
              "        return;\n",
              "      }\n",
              "      const div = document.createElement('div');\n",
              "      const label = document.createElement('label');\n",
              "      label.textContent = `Downloading \"${filename}\": `;\n",
              "      div.appendChild(label);\n",
              "      const progress = document.createElement('progress');\n",
              "      progress.max = size;\n",
              "      div.appendChild(progress);\n",
              "      document.body.appendChild(div);\n",
              "\n",
              "      const buffers = [];\n",
              "      let downloaded = 0;\n",
              "\n",
              "      const channel = await google.colab.kernel.comms.open(id);\n",
              "      // Send a message to notify the kernel that we're ready.\n",
              "      channel.send({})\n",
              "\n",
              "      for await (const message of channel.messages) {\n",
              "        // Send a message to notify the kernel that we're ready.\n",
              "        channel.send({})\n",
              "        if (message.buffers) {\n",
              "          for (const buffer of message.buffers) {\n",
              "            buffers.push(buffer);\n",
              "            downloaded += buffer.byteLength;\n",
              "            progress.value = downloaded;\n",
              "          }\n",
              "        }\n",
              "      }\n",
              "      const blob = new Blob(buffers, {type: 'application/binary'});\n",
              "      const a = document.createElement('a');\n",
              "      a.href = window.URL.createObjectURL(blob);\n",
              "      a.download = filename;\n",
              "      div.appendChild(a);\n",
              "      a.click();\n",
              "      div.remove();\n",
              "    }\n",
              "  "
            ]
          },
          "metadata": {}
        },
        {
          "output_type": "display_data",
          "data": {
            "text/plain": [
              "<IPython.core.display.Javascript object>"
            ],
            "application/javascript": [
              "download(\"download_c5bd958c-605a-431f-a27d-589ed14513e9\", \"cars.csv\", 150839)"
            ]
          },
          "metadata": {}
        }
      ]
    },
    {
      "cell_type": "code",
      "source": [
        "from pydataset import data"
      ],
      "metadata": {
        "colab": {
          "base_uri": "https://localhost:8080/",
          "height": 309
        },
        "id": "cWaOM0-nRRix",
        "outputId": "abb2afce-2eb0-4e16-da78-27714867df71"
      },
      "execution_count": null,
      "outputs": [
        {
          "output_type": "error",
          "ename": "ModuleNotFoundError",
          "evalue": "ignored",
          "traceback": [
            "\u001b[0;31m---------------------------------------------------------------------------\u001b[0m",
            "\u001b[0;31mModuleNotFoundError\u001b[0m                       Traceback (most recent call last)",
            "\u001b[0;32m<ipython-input-115-2b5549306c60>\u001b[0m in \u001b[0;36m<module>\u001b[0;34m()\u001b[0m\n\u001b[0;32m----> 1\u001b[0;31m \u001b[0;32mfrom\u001b[0m \u001b[0mpydataset\u001b[0m \u001b[0;32mimport\u001b[0m \u001b[0mdata\u001b[0m\u001b[0;34m\u001b[0m\u001b[0;34m\u001b[0m\u001b[0m\n\u001b[0m",
            "\u001b[0;31mModuleNotFoundError\u001b[0m: No module named 'pydataset'",
            "",
            "\u001b[0;31m---------------------------------------------------------------------------\u001b[0;32m\nNOTE: If your import is failing due to a missing package, you can\nmanually install dependencies using either !pip or !apt.\n\nTo view examples of installing some common dependencies, click the\n\"Open Examples\" button below.\n\u001b[0;31m---------------------------------------------------------------------------\u001b[0m\n"
          ],
          "errorDetails": {
            "actions": [
              {
                "action": "open_url",
                "actionText": "Open Examples",
                "url": "/notebooks/snippets/importing_libraries.ipynb"
              }
            ]
          }
        }
      ]
    }
  ]
}